{
 "cells": [
  {
   "cell_type": "markdown",
   "metadata": {},
   "source": [
    "# <h1 style='background:#F7B2B0; border:0; color:black'><center>index</center></h1> "
   ]
  },
  {
   "cell_type": "markdown",
   "metadata": {},
   "source": [
    "# **<span style=\"color:#F7B2B0;\">TABLE OF CONTENTS</span>**\n",
    "\n",
    "**IMPORTING LIBRARIES**\n",
    "\n",
    "**LOADING DATA**\n",
    "\n",
    "**DATA PREPROCESSING**\n",
    "\n",
    "**DATA ANALYSIS**\n",
    "\n",
    "**MODEL BUILDING**\n",
    "\n",
    "**CONCLUSIONS**\n",
    "\n",
    " # **<span style=\"color:#F7B2B0;\">IMPORTING LIBRARIES</span>**"
   ]
  },
  {
   "cell_type": "code",
   "execution_count": 221,
   "metadata": {},
   "outputs": [
    {
     "name": "stdout",
     "output_type": "stream",
     "text": [
      "Automatically created module for IPython interactive environment\n",
      "./cardio.ipynb\n",
      "./cfg.sh\n",
      "./class.png\n",
      "./help.txt\n",
      "./house_ml.ipynb\n",
      "./index.sh\n",
      "./index_ml.ipynb\n",
      "./jp.bat\n",
      "./README.md\n",
      "./.git\\COMMIT_EDITMSG\n",
      "./.git\\config\n",
      "./.git\\description\n",
      "./.git\\HEAD\n",
      "./.git\\index\n",
      "./.git\\hooks\\applypatch-msg.sample\n",
      "./.git\\hooks\\commit-msg.sample\n",
      "./.git\\hooks\\fsmonitor-watchman.sample\n",
      "./.git\\hooks\\post-update.sample\n",
      "./.git\\hooks\\pre-applypatch.sample\n",
      "./.git\\hooks\\pre-commit.sample\n",
      "./.git\\hooks\\pre-merge-commit.sample\n",
      "./.git\\hooks\\pre-push.sample\n",
      "./.git\\hooks\\pre-rebase.sample\n",
      "./.git\\hooks\\pre-receive.sample\n",
      "./.git\\hooks\\prepare-commit-msg.sample\n",
      "./.git\\hooks\\push-to-checkout.sample\n",
      "./.git\\hooks\\update.sample\n",
      "./.git\\info\\exclude\n",
      "./.git\\logs\\HEAD\n",
      "./.git\\logs\\refs\\heads\\develop\n",
      "./.git\\logs\\refs\\heads\\master\n",
      "./.git\\logs\\refs\\remotes\\origin\\develop\n",
      "./.git\\objects\\00\\06b8ae9ebdc195c08ef0136ac0272266ca09e8\n",
      "./.git\\objects\\02\\cf991cbb85e46cd184c0d0e686f885635f7448\n",
      "./.git\\objects\\04\\ad24ebbbb85f9f175675d2ed84a63a4a187cd4\n",
      "./.git\\objects\\08\\1fead57d2f728e0369a680b09a7331fc91e013\n",
      "./.git\\objects\\09\\aa3b94d855569cde24ef430555e81341844039\n",
      "./.git\\objects\\0f\\a9720b01663c0faa878300af0edd283bd4faea\n",
      "./.git\\objects\\14\\21e65d2aa2e3d148e58cb0926cb4cc546314b3\n",
      "./.git\\objects\\15\\84dccebe72d7699fb71a966c7a6fb2bab636ce\n",
      "./.git\\objects\\18\\3776b5dd44edac00a2ac98fa3d7c7d4d44be69\n",
      "./.git\\objects\\18\\383dfe03d639e79f69d556e0d04b68e3a509be\n",
      "./.git\\objects\\18\\74df7f4f17bc83ce904309925f8762ba0b4f56\n",
      "./.git\\objects\\19\\7ef331ee71fe0af6cb51f2e762a1d58dcc6276\n",
      "./.git\\objects\\1a\\ec8a0bcd293aa59e21731a614e3ee9aa113684\n",
      "./.git\\objects\\1f\\30aea993f1da4c51b76c73c16328c3cd77bb8f\n",
      "./.git\\objects\\20\\39313498d82654a2923b4eb7c28fba7358ea24\n",
      "./.git\\objects\\20\\e832ea8ad11d58fc37d150015584da01bdedbb\n",
      "./.git\\objects\\21\\d2cf738c9dc629ffb3820d0c0c0d4a9b32da81\n",
      "./.git\\objects\\23\\0113667443816b2965d003ff64b82f66d19549\n",
      "./.git\\objects\\23\\fbe68af596a2664ed618fcf96033970bbf827a\n",
      "./.git\\objects\\25\\3665e2f360862b5a69bafe216a4810815937f5\n",
      "./.git\\objects\\26\\431c594d4ee07bac22c256645a7b5033c6fadc\n",
      "./.git\\objects\\26\\49816c37d54b427e9d03b09855477ef37e1e06\n",
      "./.git\\objects\\27\\aa9ac6f08f3bcd61887d15b4fc14eb4048df2a\n",
      "./.git\\objects\\2a\\bd61d2f7a5c8cbb5f793fa30d52cb8f7a8ecd1\n",
      "./.git\\objects\\2c\\2bf59671e73a20423dab206b996a280c8a86e1\n",
      "./.git\\objects\\2d\\0b618d844227741e0358d27c43b8284997b48f\n",
      "./.git\\objects\\2d\\8e593d810cd8cf34c69617770ec51504ee71c2\n",
      "./.git\\objects\\2e\\65f2dc05f8d4b79c8e7d2d9222d186b3a60189\n",
      "./.git\\objects\\2e\\8a1c40bedb48420df88590af422ef8f7f6b868\n",
      "./.git\\objects\\2e\\d0629d87d3579a3a929fc9adab273b8d5751ff\n",
      "./.git\\objects\\34\\e2788b22afa0ec1321fc34bb4ae47bbfde4712\n",
      "./.git\\objects\\3b\\603a3ad6a4773e4b2f74a763297f863d3fbcde\n",
      "./.git\\objects\\3d\\923878ac2c7856429b79b3f7e1e799f3dbf137\n",
      "./.git\\objects\\3e\\382c2e06cc0e48d8abaa9dad95538b7ee73c6d\n",
      "./.git\\objects\\3e\\890987ec3131db309e648927c8f1c5f81ba800\n",
      "./.git\\objects\\3e\\95a6cfb7559f365fda02561e354f75ca224e49\n",
      "./.git\\objects\\42\\becc0ca51f1cf2830f9f1d31dc87a6f864a7c2\n",
      "./.git\\objects\\43\\62f5340185bac8e1704ecf686a9c230350ee49\n",
      "./.git\\objects\\45\\1ab00fd99c14ff802d51466dd996cfb3b04f40\n",
      "./.git\\objects\\45\\db18bda349d42f7dd3b82754de6ef36e2dd424\n",
      "./.git\\objects\\49\\61c6909977818e0beca3ccd757018d8abf5e5e\n",
      "./.git\\objects\\51\\1b935affd7fb80bf9ce2f8a6d021b957e32c1e\n",
      "./.git\\objects\\56\\70da10ce118139e136e83198ed284a2e2ca900\n",
      "./.git\\objects\\57\\eff6dac970c35650e8a17c51ef87d0b26c6391\n",
      "./.git\\objects\\59\\59a4bcdc184c8112fc057776dbe846b6fc26c1\n",
      "./.git\\objects\\59\\be1099da07bf6a89055209ee4e34ab9a869f57\n",
      "./.git\\objects\\5d\\7d3dde43c1587efc1190f060a056901349f106\n",
      "./.git\\objects\\5e\\e6cfd80c4f089094a9eee2a725a44f1efbd8d0\n",
      "./.git\\objects\\63\\3ff6d5ec62222d51f3dbed6b339d21ce648116\n",
      "./.git\\objects\\64\\d1becba222154f39847730568b94026fb2a84f\n",
      "./.git\\objects\\67\\fa06fe5224435f36dd2769a9dc881d3aa91459\n",
      "./.git\\objects\\67\\fd3f4bc0f97ea9659678a4ee449860c58085f2\n",
      "./.git\\objects\\69\\681e8f682f4a802b9416e72e56fc16d3e1f970\n",
      "./.git\\objects\\69\\bb7d82886925514fc7667694ec09c6a1756bf4\n",
      "./.git\\objects\\6b\\f2767ff6dd4a731cddcc03ff18a571e011a955\n",
      "./.git\\objects\\6d\\c82ddb24989e8a3ba279dc74db6cd1152dd381\n",
      "./.git\\objects\\6f\\001d6c8ae49771a8187b711a73e7199e692ae4\n",
      "./.git\\objects\\71\\8d1940371b979cfca470278bf25268e75a4fc5\n",
      "./.git\\objects\\78\\4ff6a24a3936203b7360a26c5dae78349b607d\n",
      "./.git\\objects\\7b\\c373ec39e3131ff8071720292a52980dec242f\n",
      "./.git\\objects\\7c\\2802b00d86074ca68ec896dda50a2bb4318aa1\n",
      "./.git\\objects\\7e\\649d8a41e4f61fd5ea0cce6f7104edb47e43ba\n",
      "./.git\\objects\\7e\\cd2d39bc422ecc9dbc52e480c0aab94416c336\n",
      "./.git\\objects\\81\\4facb99311db9b6ee394d288c6f9f3e2b37d31\n",
      "./.git\\objects\\84\\cd88a1eef9406e8c7ec7f2df0a41a5ee529d22\n",
      "./.git\\objects\\89\\b6e9f11bb9dd1ed9280244745c5b827ffeb5bc\n",
      "./.git\\objects\\8b\\6df5d82c54a48beddaa3b6294e80f512b4b26e\n",
      "./.git\\objects\\8d\\dc7b3788efc6076aad153e4a33f1a8172a778b\n",
      "./.git\\objects\\8f\\10ceb7be6432476c879d8596712202638f9c13\n",
      "./.git\\objects\\90\\72b73422516808d5ce105e0ed10814a1f91c81\n",
      "./.git\\objects\\93\\982ffdb222b058b39900ce23942b02e187e862\n",
      "./.git\\objects\\94\\8e7eefa0ce62d471e49b9f8a5b71143c1db309\n",
      "./.git\\objects\\95\\91a0e9e12f81e510267dd2346c7bc9301321c8\n",
      "./.git\\objects\\95\\c492b18609a65b3fd07349f2410b81a034bfb9\n",
      "./.git\\objects\\97\\30b7640cf067c1dc0dddf9aae262aaa1f92bc2\n",
      "./.git\\objects\\97\\cab78708a7210a19c3c3930633c49bb2939ea1\n",
      "./.git\\objects\\98\\6dd5eb0993f28375a5d9db6c48651d2e198e1b\n",
      "./.git\\objects\\9a\\5cd6c5fae697190745bfb8f6c0c41c2a275d4b\n",
      "./.git\\objects\\9f\\44542075e76ab2aa5f78134880c167880eecdb\n",
      "./.git\\objects\\a0\\288f7a6596c280819e9daea814b478c46100b0\n",
      "./.git\\objects\\a1\\374e0e941a549a70d7f57c4fcf0eb1aad5ddb4\n",
      "./.git\\objects\\a1\\492de5991cc5733efa891e2826b4c4cd62ce31\n",
      "./.git\\objects\\a1\\81b3ed6203bf6deedfecdcace525375716d0a9\n",
      "./.git\\objects\\a6\\5d8eaec84e692632cb3b1cf7ded8ce08e91445\n",
      "./.git\\objects\\a6\\a5814ffa05816fbe348f96a020349f224f21de\n",
      "./.git\\objects\\a9\\b11deaebb93ea580cf846d947d5342a9e13132\n",
      "./.git\\objects\\ab\\121a9664f7de6d0de6fe17b926ed9681ad0d4d\n",
      "./.git\\objects\\ab\\99246f8020ffe4fd9b713fe10e3ba4efd96a67\n",
      "./.git\\objects\\ab\\9a723c3423a998693b20d80758841935c4cb49\n",
      "./.git\\objects\\ae\\b660e641d9562d5f26d916dbbd0361610e5919\n",
      "./.git\\objects\\af\\b61fc804403035dc1d185b6934675ca4f44ae3\n",
      "./.git\\objects\\b0\\614034ad3a95e4ae9f53c2b015eeb3e8d68bde\n",
      "./.git\\objects\\b6\\b2e1f1ee9ffc13e1cc0ec52bd808ad298e18f4\n",
      "./.git\\objects\\b6\\d9fc91af70ed2fac9a6107018b3ca573a4b0cc\n",
      "./.git\\objects\\b9\\31bf01da4d00d56d56652fa5eaa4942fa95fe7\n",
      "./.git\\objects\\ba\\ef7b7756005522480b909041af253de2b0ec0e\n",
      "./.git\\objects\\bb\\3d551984c70a6cf9d081a839f0cc12c48984e9\n",
      "./.git\\objects\\bb\\fd6242ea74184a643bd2e2ca89b6e1ed0bb2a4\n",
      "./.git\\objects\\bc\\70d7d1fb5bb679043306c5f761dedb150a0abb\n",
      "./.git\\objects\\be\\05494c13055d5949586c6ce88ffea00462c100\n",
      "./.git\\objects\\be\\e58c635adf743e8b19ff44fe02f2e75747ba71\n",
      "./.git\\objects\\c3\\0b58f858b1ab9c8946b41cbb6905abc0ccb3de\n",
      "./.git\\objects\\ca\\70f85feb6b04af4efb55143a44d119dff6c252\n",
      "./.git\\objects\\cd\\d25c1d5e71985d4e2a1a8e911ce4338b51ce4b\n",
      "./.git\\objects\\cd\\d8be9626a7be3163ef11fbe5b5d726d41a800d\n",
      "./.git\\objects\\d0\\47129e6e7d8a2615f9c205d7dca89e44f44fb4\n",
      "./.git\\objects\\d1\\3ce7ebb29d7fb4b2813e61ca97b7b2debcdac3\n",
      "./.git\\objects\\d1\\e72448d3c0efbe5747df713690e897a0d1d18d\n",
      "./.git\\objects\\d2\\284fd3eb2a5a6f4f061c6ecbb521a2013cfd3a\n",
      "./.git\\objects\\d4\\e5d47dadc7e330e3d2a366fd386fe5352a30d3\n",
      "./.git\\objects\\d8\\ed1d543027dc9688064b67a99d69c680299e20\n",
      "./.git\\objects\\d9\\e3fca939a0a2102fd2101bfd03d5e1dae980e8\n",
      "./.git\\objects\\da\\4cec6468ac92b7e93ff53d24b51668106dc9e1\n",
      "./.git\\objects\\dd\\ec891c5acb377631a1d0a39814b8bdc5cc3b55\n",
      "./.git\\objects\\df\\7008ae9f12c8f85cba927d00e8a4be8acc2b63\n",
      "./.git\\objects\\e0\\a673ce10d25523b0431b320b6207622bd20d06\n",
      "./.git\\objects\\e2\\8f71bb68e0e9e2c919b8a042c6f14635ac2680\n",
      "./.git\\objects\\e3\\70e56eb8c4fd30e3ccd1b8fe23285b4002649b\n",
      "./.git\\objects\\e4\\b9c1725acfb5befddbf8dc3b96d2798cd754f0\n",
      "./.git\\objects\\e7\\7e8f174879f3597d8a6bb87ee6a3868c5e8918\n",
      "./.git\\objects\\e9\\4efe3dd3d302b39606f5c5e47f8faf045b0ab0\n",
      "./.git\\objects\\ee\\930f30beccf0bc517ecf44887a2d38e8ef766e\n",
      "./.git\\objects\\f1\\8713a01cdaa945cf1279b567506374f1bd46c1\n",
      "./.git\\objects\\f4\\666a2d6d8e526dc1ed2ad705c2cf18e16d99b4\n",
      "./.git\\objects\\f8\\2a42ff5e17fd0cbdb3851c8c8a4b8d5f3779db\n",
      "./.git\\objects\\f9\\7a52815a45896a86bb3e1b400479f04ec96c55\n",
      "./.git\\objects\\fd\\aa4725914e4e656688d43957f54bb733545508\n",
      "./.git\\objects\\fe\\e639596d6f4becad08e6a7ffc5ce885a129bf7\n",
      "./.git\\refs\\heads\\develop\n",
      "./.git\\refs\\heads\\master\n",
      "./.git\\refs\\remotes\\origin\\develop\n",
      "./.ipynb_checkpoints\\cardio-checkpoint.ipynb\n",
      "./.ipynb_checkpoints\\house_ml-checkpoint.ipynb\n",
      "./.ipynb_checkpoints\\index-checkpoint.ipynb\n",
      "./.ipynb_checkpoints\\index_ml-checkpoint.ipynb\n",
      "./1-Machine Learning Mastery\\index.ipynb\n",
      "./1-Machine Learning Mastery\\jp.bat\n",
      "./1-Machine Learning Mastery\\Machine Learning Mastery with Python Understand Your Data, Create Accurate Models and Work Projects End-To-End by Jason Brownlee (z-lib.org).pdf\n",
      "./1-Machine Learning Mastery\\.ipynb_checkpoints\\index-checkpoint.ipynb\n",
      "./2-Python-Machine-Learning-master\\02 - Variables et Fonctions.ipynb\n",
      "./2-Python-Machine-Learning-master\\03 - Structures de Controles.ipynb\n",
      "./2-Python-Machine-Learning-master\\04 - Structures de donn_رes (Listes et Tuples).ipynb\n",
      "./2-Python-Machine-Learning-master\\05 - Dictionnaires.ipynb\n",
      "./2-Python-Machine-Learning-master\\06 - List Comprehension.ipynb\n",
      "./2-Python-Machine-Learning-master\\07 - Built-in Functions.ipynb\n",
      "./2-Python-Machine-Learning-master\\08 - Modules de Bases.ipynb\n",
      "./2-Python-Machine-Learning-master\\09 - Programmation Orient_رe Objet.ipynb\n",
      "./2-Python-Machine-Learning-master\\10 - Numpy (les Bases).ipynb\n",
      "./2-Python-Machine-Learning-master\\11 - Numpy _ Indexing, Slicing, Boolean Indexing.ipynb\n",
      "./2-Python-Machine-Learning-master\\12 - Numpy Maths et Statistiques.ipynb\n",
      "./2-Python-Machine-Learning-master\\13 - Numpy Broadcasting.ipynb\n",
      "./2-Python-Machine-Learning-master\\14 - Matplotlib (les Bases).ipynb\n",
      "./2-Python-Machine-Learning-master\\15 - Matplotlib Top Graphiques.ipynb\n",
      "./2-Python-Machine-Learning-master\\16 - Scipy.ipynb\n",
      "./2-Python-Machine-Learning-master\\17 - Pandas (les Bases).ipynb\n",
      "./2-Python-Machine-Learning-master\\18 - Pandas et S_رries Temporelles.ipynb\n",
      "./2-Python-Machine-Learning-master\\19 - Seaborn.ipynb\n",
      "./2-Python-Machine-Learning-master\\20 - Sklearn (les Bases).ipynb\n",
      "./2-Python-Machine-Learning-master\\21 - Sklearn _ Model Selection.ipynb\n",
      "./2-Python-Machine-Learning-master\\22 - Sklearn Pre-processing.ipynb\n",
      "./2-Python-Machine-Learning-master\\23 - Sklearn Feature Selection.ipynb\n",
      "./2-Python-Machine-Learning-master\\24 - Sklearn _ Apprentissage Non-supervis_ر.ipynb\n",
      "./2-Python-Machine-Learning-master\\25 - Sklearn Ensemble Learning.ipynb\n",
      "./2-Python-Machine-Learning-master\\27 - Exploratory Data Analysis.ipynb\n",
      "./2-Python-Machine-Learning-master\\28 - Pr_رtraitement de donn_رes (Corrig_ر).ipynb\n",
      "./2-Python-Machine-Learning-master\\29 - Modelisation.ipynb\n",
      "./2-Python-Machine-Learning-master\\Bonus _ Pipelines Composites.ipynb\n",
      "./2-Python-Machine-Learning-master\\Bonus _ Sklearn Imputers.ipynb\n",
      "./2-Python-Machine-Learning-master\\README.md\n",
      "./2-Python-Machine-Learning-master\\.ipynb_checkpoints\\17 - Pandas (les Bases)-checkpoint.ipynb\n",
      "./2-Python-Machine-Learning-master\\.ipynb_checkpoints\\27 - Exploratory Data Analysis-checkpoint.ipynb\n",
      "./2-Python-Machine-Learning-master\\Dataset\\bacteria.png\n",
      "./2-Python-Machine-Learning-master\\Dataset\\BTC-EUR.csv\n",
      "./2-Python-Machine-Learning-master\\Dataset\\dataset.csv\n",
      "./2-Python-Machine-Learning-master\\Dataset\\dataset.xlsx\n",
      "./2-Python-Machine-Learning-master\\Dataset\\ETH-EUR.csv\n",
      "./2-Python-Machine-Learning-master\\Dataset\\titanic3 (3).xls\n",
      "./img\\1.png\n",
      "./img\\2.png\n",
      "./img\\3.png\n",
      "./img\\4.png\n",
      "./img\\5.png\n",
      "./img\\age.png\n",
      "./img\\algorithme.png\n",
      "./img\\class.png\n",
      "./img\\ds.png\n",
      "./img\\ds_ar.png\n",
      "./img\\ds_data.png\n",
      "./img\\ds_prg.png\n",
      "./img\\F006061.pdf\n",
      "./img\\Projet Data Science - Le guide complet _ Jedha Bootcamp.html\n",
      "./img\\Projet Data Science - Le guide complet _ Jedha Bootcamp_files\\4270795.js(1).téléchargement\n",
      "./img\\Projet Data Science - Le guide complet _ Jedha Bootcamp_files\\4270795.js(2).téléchargement\n",
      "./img\\Projet Data Science - Le guide complet _ Jedha Bootcamp_files\\4270795.js.téléchargement\n",
      "./img\\Projet Data Science - Le guide complet _ Jedha Bootcamp_files\\5ecfd9eb35aad5280c9c024d_icon-plus-blue.svg\n",
      "./img\\Projet Data Science - Le guide complet _ Jedha Bootcamp_files\\5ed4d9028a312762d8783214_cross.svg\n",
      "./img\\Projet Data Science - Le guide complet _ Jedha Bootcamp_files\\5ed80037f18ada5255d3b0bd_logo-jedha-footer.svg\n",
      "./img\\Projet Data Science - Le guide complet _ Jedha Bootcamp_files\\5edf945d9d4d573a79a3904f_professeur-jedha_antoine-krajnc.jpg\n",
      "./img\\Projet Data Science - Le guide complet _ Jedha Bootcamp_files\\5eeb6d95e2cf9c371cf00f88_gb.svg\n",
      "./img\\Projet Data Science - Le guide complet _ Jedha Bootcamp_files\\5eeb6d95e2cf9c77fcf00f86_fr.svg\n",
      "./img\\Projet Data Science - Le guide complet _ Jedha Bootcamp_files\\5ef630db1a87668438936181_illu lead.svg\n",
      "./img\\Projet Data Science - Le guide complet _ Jedha Bootcamp_files\\5ef630db9d6b28cf8dfeebc2_illu fullstack.svg\n",
      "./img\\Projet Data Science - Le guide complet _ Jedha Bootcamp_files\\5ef630dccc52fd244322cf8e_illu essentials.svg\n",
      "./img\\Projet Data Science - Le guide complet _ Jedha Bootcamp_files\\6006a4c0ee85fd245f669863_lala-azizli-tfNyTfJpKvc-unsplash-min.jpg\n",
      "./img\\Projet Data Science - Le guide complet _ Jedha Bootcamp_files\\6010277a2e63d03ca37cc806_person-reading.svg\n",
      "./img\\Projet Data Science - Le guide complet _ Jedha Bootcamp_files\\analytics.js.téléchargement\n",
      "./img\\Projet Data Science - Le guide complet _ Jedha Bootcamp_files\\collectedforms.js.téléchargement\n",
      "./img\\Projet Data Science - Le guide complet _ Jedha Bootcamp_files\\css\n",
      "./img\\Projet Data Science - Le guide complet _ Jedha Bootcamp_files\\f(1).txt\n",
      "./img\\Projet Data Science - Le guide complet _ Jedha Bootcamp_files\\f.txt\n",
      "./img\\Projet Data Science - Le guide complet _ Jedha Bootcamp_files\\fb.js.téléchargement\n",
      "./img\\Projet Data Science - Le guide complet _ Jedha Bootcamp_files\\fbevents.js.téléchargement\n",
      "./img\\Projet Data Science - Le guide complet _ Jedha Bootcamp_files\\gtm.js.téléchargement\n",
      "./img\\Projet Data Science - Le guide complet _ Jedha Bootcamp_files\\index.html\n",
      "./img\\Projet Data Science - Le guide complet _ Jedha Bootcamp_files\\jedha.webflow.1814cbab5.min.css\n",
      "./img\\Projet Data Science - Le guide complet _ Jedha Bootcamp_files\\jquery-3.5.1.min.dc5e7f18c8.js.téléchargement\n",
      "./img\\Projet Data Science - Le guide complet _ Jedha Bootcamp_files\\js\n",
      "./img\\Projet Data Science - Le guide complet _ Jedha Bootcamp_files\\lazysizes.min.js.téléchargement\n",
      "./img\\Projet Data Science - Le guide complet _ Jedha Bootcamp_files\\leadflows.js.téléchargement\n",
      "./img\\Projet Data Science - Le guide complet _ Jedha Bootcamp_files\\main.js.téléchargement\n",
      "./img\\Projet Data Science - Le guide complet _ Jedha Bootcamp_files\\saved_resource.html\n",
      "./img\\Projet Data Science - Le guide complet _ Jedha Bootcamp_files\\sdk.js.téléchargement\n",
      "./img\\Projet Data Science - Le guide complet _ Jedha Bootcamp_files\\tp.widget.bootstrap.min.js.téléchargement\n",
      "./img\\Projet Data Science - Le guide complet _ Jedha Bootcamp_files\\webflow.8d725831c.js.téléchargement\n",
      "./img\\Projet Data Science - Le guide complet _ Jedha Bootcamp_files\\webfont.js.téléchargement\n",
      "./img\\Projet Data Science - Le guide complet _ Jedha Bootcamp_files\\weglot.min.css\n",
      "./img\\Projet Data Science - Le guide complet _ Jedha Bootcamp_files\\weglot.min.js.téléchargement\n",
      "./input\\cardio.csv\n",
      "./input\\house.csv\n",
      "./input\\titanic.xls\n",
      "./models\\tibaredha_mdl\n",
      "./output\\modified.csv\n"
     ]
    }
   ],
   "source": [
    "# Author: tibaredha\n",
    "# License: MIT\n",
    "\n",
    "print(__doc__) \n",
    "\n",
    "import warnings\n",
    "warnings.filterwarnings('ignore')\n",
    "\n",
    "import numpy as np \n",
    "import scipy \n",
    "import pandas as pd\n",
    "import matplotlib as plt0\n",
    "import matplotlib.pyplot as plt\n",
    "import seaborn as sns\n",
    "\n",
    "pd.set_option(\"display.max_columns\",10)\n",
    "pd.set_option(\"display.max_rows\",10)\n",
    "pd.set_option(\"display.width\",60)\n",
    "\n",
    "import os\n",
    "for dirname, _, filenames in os.walk('./'):\n",
    "    for filename in filenames:\n",
    "        print(os.path.join(dirname, filename))"
   ]
  },
  {
   "cell_type": "code",
   "execution_count": 104,
   "metadata": {},
   "outputs": [
    {
     "name": "stdout",
     "output_type": "stream",
     "text": [
      "----------------\n",
      "numpy: 1.19.5\n",
      "----------------\n",
      "pandas: 1.1.5\n",
      "----------------\n",
      "scipy: 1.5.4\n",
      "----------------\n",
      "matplotlib: 3.3.3\n",
      "----------------\n",
      "pandas: 1.1.5\n"
     ]
    }
   ],
   "source": [
    "print(\"----------------\")\n",
    "print('numpy:',np.__version__)\n",
    "print(\"----------------\")\n",
    "print('pandas:',pd.__version__)\n",
    "print(\"----------------\")\n",
    "print('scipy: {}'.format(scipy.__version__))\n",
    "print(\"----------------\")\n",
    "print('matplotlib:',plt0.__version__)\n",
    "print(\"----------------\")\n",
    "print('pandas:',pd.__version__)"
   ]
  },
  {
   "cell_type": "code",
   "execution_count": 105,
   "metadata": {},
   "outputs": [],
   "source": [
    "#dir(np)"
   ]
  },
  {
   "cell_type": "markdown",
   "metadata": {},
   "source": [
    "# **<span style=\"color:#F7B2B0;\">LOADING DATA (DataFrame Pandas)</span>**"
   ]
  },
  {
   "cell_type": "code",
   "execution_count": 106,
   "metadata": {},
   "outputs": [],
   "source": [
    "fillename='./input/titanic.xls'\n",
    "df=pd.read_excel(fillename)\n",
    "#df = data.copy()"
   ]
  },
  {
   "cell_type": "code",
   "execution_count": 107,
   "metadata": {},
   "outputs": [],
   "source": [
    "#dir(df)"
   ]
  },
  {
   "cell_type": "code",
   "execution_count": 108,
   "metadata": {},
   "outputs": [
    {
     "name": "stdout",
     "output_type": "stream",
     "text": [
      "----------------\n",
      "type: <class 'pandas.core.frame.DataFrame'>\n",
      "----------------\n",
      "shape: (1309, 14)\n",
      "----------------\n",
      "size 18326\n",
      "----------------\n"
     ]
    }
   ],
   "source": [
    "print(\"----------------\")\n",
    "print(\"type:\",type(df))\n",
    "print(\"----------------\")\n",
    "print(\"shape:\",df.shape)\n",
    "print(\"----------------\")\n",
    "print(\"size\",df.size)\n",
    "print(\"----------------\")"
   ]
  },
  {
   "cell_type": "code",
   "execution_count": 109,
   "metadata": {},
   "outputs": [
    {
     "data": {
      "text/plain": [
       "RangeIndex(start=0, stop=1309, step=1)"
      ]
     },
     "execution_count": 109,
     "metadata": {},
     "output_type": "execute_result"
    }
   ],
   "source": [
    "df.index"
   ]
  },
  {
   "cell_type": "code",
   "execution_count": 110,
   "metadata": {},
   "outputs": [
    {
     "data": {
      "text/plain": [
       "Index(['pclass', 'survived', 'name', 'sex', 'age', 'sibsp',\n",
       "       'parch', 'ticket', 'fare', 'cabin', 'embarked',\n",
       "       'boat', 'body', 'home.dest'],\n",
       "      dtype='object')"
      ]
     },
     "execution_count": 110,
     "metadata": {},
     "output_type": "execute_result"
    }
   ],
   "source": [
    "df.columns"
   ]
  },
  {
   "cell_type": "code",
   "execution_count": 111,
   "metadata": {},
   "outputs": [
    {
     "data": {
      "text/plain": [
       "pclass         int64\n",
       "survived       int64\n",
       "name          object\n",
       "sex           object\n",
       "age          float64\n",
       "              ...   \n",
       "cabin         object\n",
       "embarked      object\n",
       "boat          object\n",
       "body         float64\n",
       "home.dest     object\n",
       "Length: 14, dtype: object"
      ]
     },
     "execution_count": 111,
     "metadata": {},
     "output_type": "execute_result"
    }
   ],
   "source": [
    "df.dtypes"
   ]
  },
  {
   "cell_type": "code",
   "execution_count": 112,
   "metadata": {},
   "outputs": [
    {
     "data": {
      "image/png": "[encoded data removed]",
      "text/plain": [
       "<Figure size 720x648 with 1 Axes>"
      ]
     },
     "metadata": {},
     "output_type": "display_data"
    }
   ],
   "source": [
    "plt.figure(figsize=(10,9))\n",
    "df.dtypes.value_counts().plot.pie()\n",
    "plt.show()"
   ]
  },
  {
   "cell_type": "code",
   "execution_count": 113,
   "metadata": {},
   "outputs": [
    {
     "data": {
      "text/plain": [
       "array([1, 0], dtype=int64)"
      ]
     },
     "execution_count": 113,
     "metadata": {},
     "output_type": "execute_result"
    }
   ],
   "source": [
    "df.survived.unique()"
   ]
  },
  {
   "cell_type": "code",
   "execution_count": 114,
   "metadata": {},
   "outputs": [
    {
     "data": {
      "text/plain": [
       "array([[1, 1, 'Allen, Miss. Elisabeth Walton', ..., 2, nan,\n",
       "        'St Louis, MO'],\n",
       "       [1, 1, 'Allison, Master. Hudson Trevor', ..., '11', nan,\n",
       "        'Montreal, PQ / Chesterville, ON'],\n",
       "       [1, 0, 'Allison, Miss. Helen Loraine', ..., nan, nan,\n",
       "        'Montreal, PQ / Chesterville, ON'],\n",
       "       ...,\n",
       "       [3, 0, 'Zakarian, Mr. Mapriededer', ..., nan, 304.0, nan],\n",
       "       [3, 0, 'Zakarian, Mr. Ortin', ..., nan, nan, nan],\n",
       "       [3, 0, 'Zimmerman, Mr. Leo', ..., nan, nan, nan]], dtype=object)"
      ]
     },
     "execution_count": 114,
     "metadata": {},
     "output_type": "execute_result"
    }
   ],
   "source": [
    "df.values"
   ]
  },
  {
   "cell_type": "code",
   "execution_count": 115,
   "metadata": {},
   "outputs": [],
   "source": [
    "#df=df.rename(columns={'age':'age'})"
   ]
  },
  {
   "cell_type": "code",
   "execution_count": 116,
   "metadata": {},
   "outputs": [
    {
     "data": {
      "text/html": [
       "<div>\n",
       "<style scoped>\n",
       "    .dataframe tbody tr th:only-of-type {\n",
       "        vertical-align: middle;\n",
       "    }\n",
       "\n",
       "    .dataframe tbody tr th {\n",
       "        vertical-align: top;\n",
       "    }\n",
       "\n",
       "    .dataframe thead th {\n",
       "        text-align: right;\n",
       "    }\n",
       "</style>\n",
       "<table border=\"1\" class=\"dataframe\">\n",
       "  <thead>\n",
       "    <tr style=\"text-align: right;\">\n",
       "      <th></th>\n",
       "      <th>pclass</th>\n",
       "      <th>survived</th>\n",
       "      <th>name</th>\n",
       "      <th>sex</th>\n",
       "      <th>age</th>\n",
       "      <th>...</th>\n",
       "      <th>cabin</th>\n",
       "      <th>embarked</th>\n",
       "      <th>boat</th>\n",
       "      <th>body</th>\n",
       "      <th>home.dest</th>\n",
       "    </tr>\n",
       "  </thead>\n",
       "  <tbody>\n",
       "    <tr>\n",
       "      <th>0</th>\n",
       "      <td>1</td>\n",
       "      <td>1</td>\n",
       "      <td>Allen, Miss. Elisabeth Walton</td>\n",
       "      <td>female</td>\n",
       "      <td>29.0000</td>\n",
       "      <td>...</td>\n",
       "      <td>B5</td>\n",
       "      <td>S</td>\n",
       "      <td>2</td>\n",
       "      <td>NaN</td>\n",
       "      <td>St Louis, MO</td>\n",
       "    </tr>\n",
       "    <tr>\n",
       "      <th>1</th>\n",
       "      <td>1</td>\n",
       "      <td>1</td>\n",
       "      <td>Allison, Master. Hudson Trevor</td>\n",
       "      <td>male</td>\n",
       "      <td>0.9167</td>\n",
       "      <td>...</td>\n",
       "      <td>C22 C26</td>\n",
       "      <td>S</td>\n",
       "      <td>11</td>\n",
       "      <td>NaN</td>\n",
       "      <td>Montreal, PQ / Chesterville, ON</td>\n",
       "    </tr>\n",
       "    <tr>\n",
       "      <th>2</th>\n",
       "      <td>1</td>\n",
       "      <td>0</td>\n",
       "      <td>Allison, Miss. Helen Loraine</td>\n",
       "      <td>female</td>\n",
       "      <td>2.0000</td>\n",
       "      <td>...</td>\n",
       "      <td>C22 C26</td>\n",
       "      <td>S</td>\n",
       "      <td>NaN</td>\n",
       "      <td>NaN</td>\n",
       "      <td>Montreal, PQ / Chesterville, ON</td>\n",
       "    </tr>\n",
       "    <tr>\n",
       "      <th>3</th>\n",
       "      <td>1</td>\n",
       "      <td>0</td>\n",
       "      <td>Allison, Mr. Hudson Joshua Creighton</td>\n",
       "      <td>male</td>\n",
       "      <td>30.0000</td>\n",
       "      <td>...</td>\n",
       "      <td>C22 C26</td>\n",
       "      <td>S</td>\n",
       "      <td>NaN</td>\n",
       "      <td>135.0</td>\n",
       "      <td>Montreal, PQ / Chesterville, ON</td>\n",
       "    </tr>\n",
       "    <tr>\n",
       "      <th>4</th>\n",
       "      <td>1</td>\n",
       "      <td>0</td>\n",
       "      <td>Allison, Mrs. Hudson J C (Bessie Waldo Daniels)</td>\n",
       "      <td>female</td>\n",
       "      <td>25.0000</td>\n",
       "      <td>...</td>\n",
       "      <td>C22 C26</td>\n",
       "      <td>S</td>\n",
       "      <td>NaN</td>\n",
       "      <td>NaN</td>\n",
       "      <td>Montreal, PQ / Chesterville, ON</td>\n",
       "    </tr>\n",
       "  </tbody>\n",
       "</table>\n",
       "<p>5 rows × 14 columns</p>\n",
       "</div>"
      ],
      "text/plain": [
       "   pclass  survived  \\\n",
       "0       1         1   \n",
       "1       1         1   \n",
       "2       1         0   \n",
       "3       1         0   \n",
       "4       1         0   \n",
       "\n",
       "                                              name  \\\n",
       "0                    Allen, Miss. Elisabeth Walton   \n",
       "1                   Allison, Master. Hudson Trevor   \n",
       "2                     Allison, Miss. Helen Loraine   \n",
       "3             Allison, Mr. Hudson Joshua Creighton   \n",
       "4  Allison, Mrs. Hudson J C (Bessie Waldo Daniels)   \n",
       "\n",
       "      sex      age  ...    cabin  embarked boat   body  \\\n",
       "0  female  29.0000  ...       B5         S    2    NaN   \n",
       "1    male   0.9167  ...  C22 C26         S   11    NaN   \n",
       "2  female   2.0000  ...  C22 C26         S  NaN    NaN   \n",
       "3    male  30.0000  ...  C22 C26         S  NaN  135.0   \n",
       "4  female  25.0000  ...  C22 C26         S  NaN    NaN   \n",
       "\n",
       "                         home.dest  \n",
       "0                     St Louis, MO  \n",
       "1  Montreal, PQ / Chesterville, ON  \n",
       "2  Montreal, PQ / Chesterville, ON  \n",
       "3  Montreal, PQ / Chesterville, ON  \n",
       "4  Montreal, PQ / Chesterville, ON  \n",
       "\n",
       "[5 rows x 14 columns]"
      ]
     },
     "execution_count": 116,
     "metadata": {},
     "output_type": "execute_result"
    }
   ],
   "source": [
    "df.head()"
   ]
  },
  {
   "cell_type": "code",
   "execution_count": 117,
   "metadata": {},
   "outputs": [
    {
     "data": {
      "text/html": [
       "<div>\n",
       "<style scoped>\n",
       "    .dataframe tbody tr th:only-of-type {\n",
       "        vertical-align: middle;\n",
       "    }\n",
       "\n",
       "    .dataframe tbody tr th {\n",
       "        vertical-align: top;\n",
       "    }\n",
       "\n",
       "    .dataframe thead th {\n",
       "        text-align: right;\n",
       "    }\n",
       "</style>\n",
       "<table border=\"1\" class=\"dataframe\">\n",
       "  <thead>\n",
       "    <tr style=\"text-align: right;\">\n",
       "      <th></th>\n",
       "      <th>pclass</th>\n",
       "      <th>survived</th>\n",
       "      <th>name</th>\n",
       "      <th>sex</th>\n",
       "      <th>age</th>\n",
       "      <th>...</th>\n",
       "      <th>cabin</th>\n",
       "      <th>embarked</th>\n",
       "      <th>boat</th>\n",
       "      <th>body</th>\n",
       "      <th>home.dest</th>\n",
       "    </tr>\n",
       "  </thead>\n",
       "  <tbody>\n",
       "    <tr>\n",
       "      <th>1304</th>\n",
       "      <td>3</td>\n",
       "      <td>0</td>\n",
       "      <td>Zabour, Miss. Hileni</td>\n",
       "      <td>female</td>\n",
       "      <td>14.5</td>\n",
       "      <td>...</td>\n",
       "      <td>NaN</td>\n",
       "      <td>C</td>\n",
       "      <td>NaN</td>\n",
       "      <td>328.0</td>\n",
       "      <td>NaN</td>\n",
       "    </tr>\n",
       "    <tr>\n",
       "      <th>1305</th>\n",
       "      <td>3</td>\n",
       "      <td>0</td>\n",
       "      <td>Zabour, Miss. Thamine</td>\n",
       "      <td>female</td>\n",
       "      <td>NaN</td>\n",
       "      <td>...</td>\n",
       "      <td>NaN</td>\n",
       "      <td>C</td>\n",
       "      <td>NaN</td>\n",
       "      <td>NaN</td>\n",
       "      <td>NaN</td>\n",
       "    </tr>\n",
       "    <tr>\n",
       "      <th>1306</th>\n",
       "      <td>3</td>\n",
       "      <td>0</td>\n",
       "      <td>Zakarian, Mr. Mapriededer</td>\n",
       "      <td>male</td>\n",
       "      <td>26.5</td>\n",
       "      <td>...</td>\n",
       "      <td>NaN</td>\n",
       "      <td>C</td>\n",
       "      <td>NaN</td>\n",
       "      <td>304.0</td>\n",
       "      <td>NaN</td>\n",
       "    </tr>\n",
       "    <tr>\n",
       "      <th>1307</th>\n",
       "      <td>3</td>\n",
       "      <td>0</td>\n",
       "      <td>Zakarian, Mr. Ortin</td>\n",
       "      <td>male</td>\n",
       "      <td>27.0</td>\n",
       "      <td>...</td>\n",
       "      <td>NaN</td>\n",
       "      <td>C</td>\n",
       "      <td>NaN</td>\n",
       "      <td>NaN</td>\n",
       "      <td>NaN</td>\n",
       "    </tr>\n",
       "    <tr>\n",
       "      <th>1308</th>\n",
       "      <td>3</td>\n",
       "      <td>0</td>\n",
       "      <td>Zimmerman, Mr. Leo</td>\n",
       "      <td>male</td>\n",
       "      <td>29.0</td>\n",
       "      <td>...</td>\n",
       "      <td>NaN</td>\n",
       "      <td>S</td>\n",
       "      <td>NaN</td>\n",
       "      <td>NaN</td>\n",
       "      <td>NaN</td>\n",
       "    </tr>\n",
       "  </tbody>\n",
       "</table>\n",
       "<p>5 rows × 14 columns</p>\n",
       "</div>"
      ],
      "text/plain": [
       "      pclass  survived                       name     sex  \\\n",
       "1304       3         0       Zabour, Miss. Hileni  female   \n",
       "1305       3         0      Zabour, Miss. Thamine  female   \n",
       "1306       3         0  Zakarian, Mr. Mapriededer    male   \n",
       "1307       3         0        Zakarian, Mr. Ortin    male   \n",
       "1308       3         0         Zimmerman, Mr. Leo    male   \n",
       "\n",
       "       age  ...  cabin  embarked boat   body home.dest  \n",
       "1304  14.5  ...    NaN         C  NaN  328.0       NaN  \n",
       "1305   NaN  ...    NaN         C  NaN    NaN       NaN  \n",
       "1306  26.5  ...    NaN         C  NaN  304.0       NaN  \n",
       "1307  27.0  ...    NaN         C  NaN    NaN       NaN  \n",
       "1308  29.0  ...    NaN         S  NaN    NaN       NaN  \n",
       "\n",
       "[5 rows x 14 columns]"
      ]
     },
     "execution_count": 117,
     "metadata": {},
     "output_type": "execute_result"
    }
   ],
   "source": [
    "df.tail()"
   ]
  },
  {
   "cell_type": "code",
   "execution_count": 118,
   "metadata": {},
   "outputs": [
    {
     "data": {
      "text/html": [
       "<div>\n",
       "<style scoped>\n",
       "    .dataframe tbody tr th:only-of-type {\n",
       "        vertical-align: middle;\n",
       "    }\n",
       "\n",
       "    .dataframe tbody tr th {\n",
       "        vertical-align: top;\n",
       "    }\n",
       "\n",
       "    .dataframe thead th {\n",
       "        text-align: right;\n",
       "    }\n",
       "</style>\n",
       "<table border=\"1\" class=\"dataframe\">\n",
       "  <thead>\n",
       "    <tr style=\"text-align: right;\">\n",
       "      <th></th>\n",
       "      <th>count</th>\n",
       "      <th>mean</th>\n",
       "      <th>std</th>\n",
       "      <th>min</th>\n",
       "      <th>25%</th>\n",
       "      <th>50%</th>\n",
       "      <th>75%</th>\n",
       "      <th>max</th>\n",
       "    </tr>\n",
       "  </thead>\n",
       "  <tbody>\n",
       "    <tr>\n",
       "      <th>pclass</th>\n",
       "      <td>1309.0</td>\n",
       "      <td>2.294882</td>\n",
       "      <td>0.837836</td>\n",
       "      <td>1.0000</td>\n",
       "      <td>2.0000</td>\n",
       "      <td>3.0000</td>\n",
       "      <td>3.000</td>\n",
       "      <td>3.0000</td>\n",
       "    </tr>\n",
       "    <tr>\n",
       "      <th>survived</th>\n",
       "      <td>1309.0</td>\n",
       "      <td>0.381971</td>\n",
       "      <td>0.486055</td>\n",
       "      <td>0.0000</td>\n",
       "      <td>0.0000</td>\n",
       "      <td>0.0000</td>\n",
       "      <td>1.000</td>\n",
       "      <td>1.0000</td>\n",
       "    </tr>\n",
       "    <tr>\n",
       "      <th>age</th>\n",
       "      <td>1046.0</td>\n",
       "      <td>29.881135</td>\n",
       "      <td>14.413500</td>\n",
       "      <td>0.1667</td>\n",
       "      <td>21.0000</td>\n",
       "      <td>28.0000</td>\n",
       "      <td>39.000</td>\n",
       "      <td>80.0000</td>\n",
       "    </tr>\n",
       "    <tr>\n",
       "      <th>sibsp</th>\n",
       "      <td>1309.0</td>\n",
       "      <td>0.498854</td>\n",
       "      <td>1.041658</td>\n",
       "      <td>0.0000</td>\n",
       "      <td>0.0000</td>\n",
       "      <td>0.0000</td>\n",
       "      <td>1.000</td>\n",
       "      <td>8.0000</td>\n",
       "    </tr>\n",
       "    <tr>\n",
       "      <th>parch</th>\n",
       "      <td>1309.0</td>\n",
       "      <td>0.385027</td>\n",
       "      <td>0.865560</td>\n",
       "      <td>0.0000</td>\n",
       "      <td>0.0000</td>\n",
       "      <td>0.0000</td>\n",
       "      <td>0.000</td>\n",
       "      <td>9.0000</td>\n",
       "    </tr>\n",
       "    <tr>\n",
       "      <th>fare</th>\n",
       "      <td>1308.0</td>\n",
       "      <td>33.295479</td>\n",
       "      <td>51.758668</td>\n",
       "      <td>0.0000</td>\n",
       "      <td>7.8958</td>\n",
       "      <td>14.4542</td>\n",
       "      <td>31.275</td>\n",
       "      <td>512.3292</td>\n",
       "    </tr>\n",
       "    <tr>\n",
       "      <th>body</th>\n",
       "      <td>121.0</td>\n",
       "      <td>160.809917</td>\n",
       "      <td>97.696922</td>\n",
       "      <td>1.0000</td>\n",
       "      <td>72.0000</td>\n",
       "      <td>155.0000</td>\n",
       "      <td>256.000</td>\n",
       "      <td>328.0000</td>\n",
       "    </tr>\n",
       "  </tbody>\n",
       "</table>\n",
       "</div>"
      ],
      "text/plain": [
       "           count        mean        std     min      25%  \\\n",
       "pclass    1309.0    2.294882   0.837836  1.0000   2.0000   \n",
       "survived  1309.0    0.381971   0.486055  0.0000   0.0000   \n",
       "age       1046.0   29.881135  14.413500  0.1667  21.0000   \n",
       "sibsp     1309.0    0.498854   1.041658  0.0000   0.0000   \n",
       "parch     1309.0    0.385027   0.865560  0.0000   0.0000   \n",
       "fare      1308.0   33.295479  51.758668  0.0000   7.8958   \n",
       "body       121.0  160.809917  97.696922  1.0000  72.0000   \n",
       "\n",
       "               50%      75%       max  \n",
       "pclass      3.0000    3.000    3.0000  \n",
       "survived    0.0000    1.000    1.0000  \n",
       "age        28.0000   39.000   80.0000  \n",
       "sibsp       0.0000    1.000    8.0000  \n",
       "parch       0.0000    0.000    9.0000  \n",
       "fare       14.4542   31.275  512.3292  \n",
       "body      155.0000  256.000  328.0000  "
      ]
     },
     "execution_count": 118,
     "metadata": {},
     "output_type": "execute_result"
    }
   ],
   "source": [
    "df.describe().T"
   ]
  },
  {
   "cell_type": "code",
   "execution_count": 119,
   "metadata": {},
   "outputs": [
    {
     "name": "stdout",
     "output_type": "stream",
     "text": [
      "<class 'pandas.core.frame.DataFrame'>\n",
      "RangeIndex: 1309 entries, 0 to 1308\n",
      "Data columns (total 14 columns):\n",
      " #   Column     Non-Null Count  Dtype  \n",
      "---  ------     --------------  -----  \n",
      " 0   pclass     1309 non-null   int64  \n",
      " 1   survived   1309 non-null   int64  \n",
      " 2   name       1309 non-null   object \n",
      " 3   sex        1309 non-null   object \n",
      " 4   age        1046 non-null   float64\n",
      " 5   sibsp      1309 non-null   int64  \n",
      " 6   parch      1309 non-null   int64  \n",
      " 7   ticket     1309 non-null   object \n",
      " 8   fare       1308 non-null   float64\n",
      " 9   cabin      295 non-null    object \n",
      " 10  embarked   1307 non-null   object \n",
      " 11  boat       486 non-null    object \n",
      " 12  body       121 non-null    float64\n",
      " 13  home.dest  745 non-null    object \n",
      "dtypes: float64(3), int64(4), object(7)\n",
      "memory usage: 143.3+ KB\n"
     ]
    }
   ],
   "source": [
    "df.info()"
   ]
  },
  {
   "cell_type": "markdown",
   "metadata": {},
   "source": [
    "## 2. Nettoyer votre Dataset avec drop(), dropna() et fillna()"
   ]
  },
  {
   "cell_type": "code",
   "execution_count": 120,
   "metadata": {},
   "outputs": [],
   "source": [
    "df=df.drop(['name', 'sibsp', 'parch', 'ticket', 'fare', 'cabin', 'embarked', 'boat', 'body', 'home.dest'], axis=1)\n",
    "#use inplace=True for definitive drop "
   ]
  },
  {
   "cell_type": "code",
   "execution_count": 121,
   "metadata": {},
   "outputs": [
    {
     "data": {
      "text/html": [
       "<div>\n",
       "<style scoped>\n",
       "    .dataframe tbody tr th:only-of-type {\n",
       "        vertical-align: middle;\n",
       "    }\n",
       "\n",
       "    .dataframe tbody tr th {\n",
       "        vertical-align: top;\n",
       "    }\n",
       "\n",
       "    .dataframe thead th {\n",
       "        text-align: right;\n",
       "    }\n",
       "</style>\n",
       "<table border=\"1\" class=\"dataframe\">\n",
       "  <thead>\n",
       "    <tr style=\"text-align: right;\">\n",
       "      <th></th>\n",
       "      <th>pclass</th>\n",
       "      <th>survived</th>\n",
       "      <th>sex</th>\n",
       "      <th>age</th>\n",
       "    </tr>\n",
       "  </thead>\n",
       "  <tbody>\n",
       "    <tr>\n",
       "      <th>0</th>\n",
       "      <td>1</td>\n",
       "      <td>1</td>\n",
       "      <td>female</td>\n",
       "      <td>29.0000</td>\n",
       "    </tr>\n",
       "    <tr>\n",
       "      <th>1</th>\n",
       "      <td>1</td>\n",
       "      <td>1</td>\n",
       "      <td>male</td>\n",
       "      <td>0.9167</td>\n",
       "    </tr>\n",
       "    <tr>\n",
       "      <th>2</th>\n",
       "      <td>1</td>\n",
       "      <td>0</td>\n",
       "      <td>female</td>\n",
       "      <td>2.0000</td>\n",
       "    </tr>\n",
       "    <tr>\n",
       "      <th>3</th>\n",
       "      <td>1</td>\n",
       "      <td>0</td>\n",
       "      <td>male</td>\n",
       "      <td>30.0000</td>\n",
       "    </tr>\n",
       "    <tr>\n",
       "      <th>4</th>\n",
       "      <td>1</td>\n",
       "      <td>0</td>\n",
       "      <td>female</td>\n",
       "      <td>25.0000</td>\n",
       "    </tr>\n",
       "  </tbody>\n",
       "</table>\n",
       "</div>"
      ],
      "text/plain": [
       "   pclass  survived     sex      age\n",
       "0       1         1  female  29.0000\n",
       "1       1         1    male   0.9167\n",
       "2       1         0  female   2.0000\n",
       "3       1         0    male  30.0000\n",
       "4       1         0  female  25.0000"
      ]
     },
     "execution_count": 121,
     "metadata": {},
     "output_type": "execute_result"
    }
   ],
   "source": [
    "df.head()"
   ]
  },
  {
   "cell_type": "code",
   "execution_count": 122,
   "metadata": {},
   "outputs": [
    {
     "data": {
      "text/plain": [
       "pclass        0\n",
       "survived      0\n",
       "sex           0\n",
       "age         263\n",
       "dtype: int64"
      ]
     },
     "execution_count": 122,
     "metadata": {},
     "output_type": "execute_result"
    }
   ],
   "source": [
    "# chercher les enregistrement null \n",
    "df.isnull().sum()"
   ]
  },
  {
   "cell_type": "code",
   "execution_count": 123,
   "metadata": {},
   "outputs": [],
   "source": [
    "# 1er option : altere la realité\n",
    "# df=df.fillna(df[''].mean())\n",
    "# 2eme option : n'altere pas la réalité\n",
    "df = df.dropna(axis=0)"
   ]
  },
  {
   "cell_type": "code",
   "execution_count": 124,
   "metadata": {},
   "outputs": [
    {
     "data": {
      "text/plain": [
       "(1046, 4)"
      ]
     },
     "execution_count": 124,
     "metadata": {},
     "output_type": "execute_result"
    }
   ],
   "source": [
    "df.shape"
   ]
  },
  {
   "cell_type": "code",
   "execution_count": 125,
   "metadata": {},
   "outputs": [
    {
     "data": {
      "text/html": [
       "<div>\n",
       "<style scoped>\n",
       "    .dataframe tbody tr th:only-of-type {\n",
       "        vertical-align: middle;\n",
       "    }\n",
       "\n",
       "    .dataframe tbody tr th {\n",
       "        vertical-align: top;\n",
       "    }\n",
       "\n",
       "    .dataframe thead th {\n",
       "        text-align: right;\n",
       "    }\n",
       "</style>\n",
       "<table border=\"1\" class=\"dataframe\">\n",
       "  <thead>\n",
       "    <tr style=\"text-align: right;\">\n",
       "      <th></th>\n",
       "      <th>pclass</th>\n",
       "      <th>survived</th>\n",
       "      <th>age</th>\n",
       "    </tr>\n",
       "  </thead>\n",
       "  <tbody>\n",
       "    <tr>\n",
       "      <th>count</th>\n",
       "      <td>1046.000000</td>\n",
       "      <td>1046.000000</td>\n",
       "      <td>1046.000000</td>\n",
       "    </tr>\n",
       "    <tr>\n",
       "      <th>mean</th>\n",
       "      <td>2.207457</td>\n",
       "      <td>0.408222</td>\n",
       "      <td>29.881135</td>\n",
       "    </tr>\n",
       "    <tr>\n",
       "      <th>std</th>\n",
       "      <td>0.841497</td>\n",
       "      <td>0.491740</td>\n",
       "      <td>14.413500</td>\n",
       "    </tr>\n",
       "    <tr>\n",
       "      <th>min</th>\n",
       "      <td>1.000000</td>\n",
       "      <td>0.000000</td>\n",
       "      <td>0.166700</td>\n",
       "    </tr>\n",
       "    <tr>\n",
       "      <th>25%</th>\n",
       "      <td>1.000000</td>\n",
       "      <td>0.000000</td>\n",
       "      <td>21.000000</td>\n",
       "    </tr>\n",
       "    <tr>\n",
       "      <th>50%</th>\n",
       "      <td>2.000000</td>\n",
       "      <td>0.000000</td>\n",
       "      <td>28.000000</td>\n",
       "    </tr>\n",
       "    <tr>\n",
       "      <th>75%</th>\n",
       "      <td>3.000000</td>\n",
       "      <td>1.000000</td>\n",
       "      <td>39.000000</td>\n",
       "    </tr>\n",
       "    <tr>\n",
       "      <th>max</th>\n",
       "      <td>3.000000</td>\n",
       "      <td>1.000000</td>\n",
       "      <td>80.000000</td>\n",
       "    </tr>\n",
       "  </tbody>\n",
       "</table>\n",
       "</div>"
      ],
      "text/plain": [
       "            pclass     survived          age\n",
       "count  1046.000000  1046.000000  1046.000000\n",
       "mean      2.207457     0.408222    29.881135\n",
       "std       0.841497     0.491740    14.413500\n",
       "min       1.000000     0.000000     0.166700\n",
       "25%       1.000000     0.000000    21.000000\n",
       "50%       2.000000     0.000000    28.000000\n",
       "75%       3.000000     1.000000    39.000000\n",
       "max       3.000000     1.000000    80.000000"
      ]
     },
     "execution_count": 125,
     "metadata": {},
     "output_type": "execute_result"
    }
   ],
   "source": [
    "df.describe()"
   ]
  },
  {
   "cell_type": "markdown",
   "metadata": {},
   "source": [
    "## 3. analyser votre Dataset"
   ]
  },
  {
   "cell_type": "code",
   "execution_count": 126,
   "metadata": {},
   "outputs": [],
   "source": [
    "#subset columns\n",
    "#serie form\n",
    "pclass=df['pclass']\n",
    "#dataframe form = sum of series \n",
    "pclass=df[['pclass']]\n",
    "\n",
    "\n",
    "cl=df['pclass'].head() # une colone=series  plusieurs series=dataframe \n",
    "# df=df.set_index['pclass'] pour changer l'index"
   ]
  },
  {
   "cell_type": "code",
   "execution_count": 127,
   "metadata": {},
   "outputs": [
    {
     "data": {
      "text/plain": [
       "0    1\n",
       "1    1\n",
       "2    1\n",
       "3    1\n",
       "4    1\n",
       "Name: pclass, dtype: int64"
      ]
     },
     "execution_count": 127,
     "metadata": {},
     "output_type": "execute_result"
    }
   ],
   "source": [
    "cl"
   ]
  },
  {
   "cell_type": "code",
   "execution_count": 128,
   "metadata": {},
   "outputs": [
    {
     "data": {
      "text/plain": [
       "pandas.core.series.Series"
      ]
     },
     "execution_count": 128,
     "metadata": {},
     "output_type": "execute_result"
    }
   ],
   "source": [
    "type(cl)"
   ]
  },
  {
   "cell_type": "code",
   "execution_count": 129,
   "metadata": {},
   "outputs": [
    {
     "data": {
      "text/plain": [
       "(5,)"
      ]
     },
     "execution_count": 129,
     "metadata": {},
     "output_type": "execute_result"
    }
   ],
   "source": [
    "cl.shape"
   ]
  },
  {
   "cell_type": "code",
   "execution_count": 130,
   "metadata": {},
   "outputs": [
    {
     "data": {
      "text/html": [
       "<div>\n",
       "<style scoped>\n",
       "    .dataframe tbody tr th:only-of-type {\n",
       "        vertical-align: middle;\n",
       "    }\n",
       "\n",
       "    .dataframe tbody tr th {\n",
       "        vertical-align: top;\n",
       "    }\n",
       "\n",
       "    .dataframe thead th {\n",
       "        text-align: right;\n",
       "    }\n",
       "</style>\n",
       "<table border=\"1\" class=\"dataframe\">\n",
       "  <thead>\n",
       "    <tr style=\"text-align: right;\">\n",
       "      <th></th>\n",
       "      <th>pclass</th>\n",
       "      <th>survived</th>\n",
       "      <th>sex</th>\n",
       "      <th>age</th>\n",
       "    </tr>\n",
       "  </thead>\n",
       "  <tbody>\n",
       "    <tr>\n",
       "      <th>0</th>\n",
       "      <td>1</td>\n",
       "      <td>1</td>\n",
       "      <td>female</td>\n",
       "      <td>29.0000</td>\n",
       "    </tr>\n",
       "    <tr>\n",
       "      <th>1</th>\n",
       "      <td>1</td>\n",
       "      <td>1</td>\n",
       "      <td>male</td>\n",
       "      <td>0.9167</td>\n",
       "    </tr>\n",
       "    <tr>\n",
       "      <th>2</th>\n",
       "      <td>1</td>\n",
       "      <td>0</td>\n",
       "      <td>female</td>\n",
       "      <td>2.0000</td>\n",
       "    </tr>\n",
       "    <tr>\n",
       "      <th>3</th>\n",
       "      <td>1</td>\n",
       "      <td>0</td>\n",
       "      <td>male</td>\n",
       "      <td>30.0000</td>\n",
       "    </tr>\n",
       "    <tr>\n",
       "      <th>4</th>\n",
       "      <td>1</td>\n",
       "      <td>0</td>\n",
       "      <td>female</td>\n",
       "      <td>25.0000</td>\n",
       "    </tr>\n",
       "    <tr>\n",
       "      <th>...</th>\n",
       "      <td>...</td>\n",
       "      <td>...</td>\n",
       "      <td>...</td>\n",
       "      <td>...</td>\n",
       "    </tr>\n",
       "    <tr>\n",
       "      <th>1301</th>\n",
       "      <td>3</td>\n",
       "      <td>0</td>\n",
       "      <td>male</td>\n",
       "      <td>45.5000</td>\n",
       "    </tr>\n",
       "    <tr>\n",
       "      <th>1304</th>\n",
       "      <td>3</td>\n",
       "      <td>0</td>\n",
       "      <td>female</td>\n",
       "      <td>14.5000</td>\n",
       "    </tr>\n",
       "    <tr>\n",
       "      <th>1306</th>\n",
       "      <td>3</td>\n",
       "      <td>0</td>\n",
       "      <td>male</td>\n",
       "      <td>26.5000</td>\n",
       "    </tr>\n",
       "    <tr>\n",
       "      <th>1307</th>\n",
       "      <td>3</td>\n",
       "      <td>0</td>\n",
       "      <td>male</td>\n",
       "      <td>27.0000</td>\n",
       "    </tr>\n",
       "    <tr>\n",
       "      <th>1308</th>\n",
       "      <td>3</td>\n",
       "      <td>0</td>\n",
       "      <td>male</td>\n",
       "      <td>29.0000</td>\n",
       "    </tr>\n",
       "  </tbody>\n",
       "</table>\n",
       "<p>1046 rows × 4 columns</p>\n",
       "</div>"
      ],
      "text/plain": [
       "      pclass  survived     sex      age\n",
       "0          1         1  female  29.0000\n",
       "1          1         1    male   0.9167\n",
       "2          1         0  female   2.0000\n",
       "3          1         0    male  30.0000\n",
       "4          1         0  female  25.0000\n",
       "...      ...       ...     ...      ...\n",
       "1301       3         0    male  45.5000\n",
       "1304       3         0  female  14.5000\n",
       "1306       3         0    male  26.5000\n",
       "1307       3         0    male  27.0000\n",
       "1308       3         0    male  29.0000\n",
       "\n",
       "[1046 rows x 4 columns]"
      ]
     },
     "execution_count": 130,
     "metadata": {},
     "output_type": "execute_result"
    }
   ],
   "source": [
    "df.sort_values(['pclass'], ascending=[1])\n",
    "df"
   ]
  },
  {
   "cell_type": "code",
   "execution_count": 131,
   "metadata": {},
   "outputs": [
    {
     "data": {
      "text/plain": [
       "3    501\n",
       "1    284\n",
       "2    261\n",
       "Name: pclass, dtype: int64"
      ]
     },
     "execution_count": 131,
     "metadata": {},
     "output_type": "execute_result"
    }
   ],
   "source": [
    "df['pclass'].value_counts()"
   ]
  },
  {
   "cell_type": "code",
   "execution_count": 132,
   "metadata": {},
   "outputs": [
    {
     "data": {
      "text/plain": [
       "3    106\n",
       "2     33\n",
       "1     15\n",
       "Name: pclass, dtype: int64"
      ]
     },
     "execution_count": 132,
     "metadata": {},
     "output_type": "execute_result"
    }
   ],
   "source": [
    "df[df['age'] < 18]['pclass'].value_counts()"
   ]
  },
  {
   "cell_type": "code",
   "execution_count": 133,
   "metadata": {},
   "outputs": [
    {
     "data": {
      "text/html": [
       "<div>\n",
       "<style scoped>\n",
       "    .dataframe tbody tr th:only-of-type {\n",
       "        vertical-align: middle;\n",
       "    }\n",
       "\n",
       "    .dataframe tbody tr th {\n",
       "        vertical-align: top;\n",
       "    }\n",
       "\n",
       "    .dataframe thead th {\n",
       "        text-align: right;\n",
       "    }\n",
       "</style>\n",
       "<table border=\"1\" class=\"dataframe\">\n",
       "  <thead>\n",
       "    <tr style=\"text-align: right;\">\n",
       "      <th></th>\n",
       "      <th>pclass</th>\n",
       "      <th>survived</th>\n",
       "      <th>age</th>\n",
       "    </tr>\n",
       "    <tr>\n",
       "      <th>sex</th>\n",
       "      <th></th>\n",
       "      <th></th>\n",
       "      <th></th>\n",
       "    </tr>\n",
       "  </thead>\n",
       "  <tbody>\n",
       "    <tr>\n",
       "      <th>female</th>\n",
       "      <td>2.048969</td>\n",
       "      <td>0.752577</td>\n",
       "      <td>28.687071</td>\n",
       "    </tr>\n",
       "    <tr>\n",
       "      <th>male</th>\n",
       "      <td>2.300912</td>\n",
       "      <td>0.205167</td>\n",
       "      <td>30.585233</td>\n",
       "    </tr>\n",
       "  </tbody>\n",
       "</table>\n",
       "</div>"
      ],
      "text/plain": [
       "          pclass  survived        age\n",
       "sex                                  \n",
       "female  2.048969  0.752577  28.687071\n",
       "male    2.300912  0.205167  30.585233"
      ]
     },
     "execution_count": 133,
     "metadata": {},
     "output_type": "execute_result"
    }
   ],
   "source": [
    "df.groupby(['sex']).mean() #  count()"
   ]
  },
  {
   "cell_type": "code",
   "execution_count": 134,
   "metadata": {},
   "outputs": [
    {
     "data": {
      "text/html": [
       "<div>\n",
       "<style scoped>\n",
       "    .dataframe tbody tr th:only-of-type {\n",
       "        vertical-align: middle;\n",
       "    }\n",
       "\n",
       "    .dataframe tbody tr th {\n",
       "        vertical-align: top;\n",
       "    }\n",
       "\n",
       "    .dataframe thead th {\n",
       "        text-align: right;\n",
       "    }\n",
       "</style>\n",
       "<table border=\"1\" class=\"dataframe\">\n",
       "  <thead>\n",
       "    <tr style=\"text-align: right;\">\n",
       "      <th></th>\n",
       "      <th></th>\n",
       "      <th>survived</th>\n",
       "      <th>age</th>\n",
       "    </tr>\n",
       "    <tr>\n",
       "      <th>sex</th>\n",
       "      <th>pclass</th>\n",
       "      <th></th>\n",
       "      <th></th>\n",
       "    </tr>\n",
       "  </thead>\n",
       "  <tbody>\n",
       "    <tr>\n",
       "      <th rowspan=\"3\" valign=\"top\">female</th>\n",
       "      <th>1</th>\n",
       "      <td>0.962406</td>\n",
       "      <td>37.037594</td>\n",
       "    </tr>\n",
       "    <tr>\n",
       "      <th>2</th>\n",
       "      <td>0.893204</td>\n",
       "      <td>27.499191</td>\n",
       "    </tr>\n",
       "    <tr>\n",
       "      <th>3</th>\n",
       "      <td>0.473684</td>\n",
       "      <td>22.185307</td>\n",
       "    </tr>\n",
       "    <tr>\n",
       "      <th rowspan=\"3\" valign=\"top\">male</th>\n",
       "      <th>1</th>\n",
       "      <td>0.350993</td>\n",
       "      <td>41.029250</td>\n",
       "    </tr>\n",
       "    <tr>\n",
       "      <th>2</th>\n",
       "      <td>0.145570</td>\n",
       "      <td>30.815401</td>\n",
       "    </tr>\n",
       "    <tr>\n",
       "      <th>3</th>\n",
       "      <td>0.169054</td>\n",
       "      <td>25.962273</td>\n",
       "    </tr>\n",
       "  </tbody>\n",
       "</table>\n",
       "</div>"
      ],
      "text/plain": [
       "               survived        age\n",
       "sex    pclass                     \n",
       "female 1       0.962406  37.037594\n",
       "       2       0.893204  27.499191\n",
       "       3       0.473684  22.185307\n",
       "male   1       0.350993  41.029250\n",
       "       2       0.145570  30.815401\n",
       "       3       0.169054  25.962273"
      ]
     },
     "execution_count": 134,
     "metadata": {},
     "output_type": "execute_result"
    }
   ],
   "source": [
    "df.groupby(['sex', 'pclass']).mean()"
   ]
  },
  {
   "cell_type": "code",
   "execution_count": 135,
   "metadata": {},
   "outputs": [
    {
     "data": {
      "text/html": [
       "<div>\n",
       "<style scoped>\n",
       "    .dataframe tbody tr th:only-of-type {\n",
       "        vertical-align: middle;\n",
       "    }\n",
       "\n",
       "    .dataframe tbody tr th {\n",
       "        vertical-align: top;\n",
       "    }\n",
       "\n",
       "    .dataframe thead th {\n",
       "        text-align: right;\n",
       "    }\n",
       "</style>\n",
       "<table border=\"1\" class=\"dataframe\">\n",
       "  <thead>\n",
       "    <tr style=\"text-align: right;\">\n",
       "      <th></th>\n",
       "      <th>pclass</th>\n",
       "    </tr>\n",
       "  </thead>\n",
       "  <tbody>\n",
       "    <tr>\n",
       "      <th>0</th>\n",
       "      <td>1</td>\n",
       "    </tr>\n",
       "    <tr>\n",
       "      <th>1</th>\n",
       "      <td>1</td>\n",
       "    </tr>\n",
       "    <tr>\n",
       "      <th>2</th>\n",
       "      <td>1</td>\n",
       "    </tr>\n",
       "    <tr>\n",
       "      <th>3</th>\n",
       "      <td>1</td>\n",
       "    </tr>\n",
       "    <tr>\n",
       "      <th>4</th>\n",
       "      <td>1</td>\n",
       "    </tr>\n",
       "    <tr>\n",
       "      <th>...</th>\n",
       "      <td>...</td>\n",
       "    </tr>\n",
       "    <tr>\n",
       "      <th>6</th>\n",
       "      <td>1</td>\n",
       "    </tr>\n",
       "    <tr>\n",
       "      <th>7</th>\n",
       "      <td>1</td>\n",
       "    </tr>\n",
       "    <tr>\n",
       "      <th>8</th>\n",
       "      <td>1</td>\n",
       "    </tr>\n",
       "    <tr>\n",
       "      <th>9</th>\n",
       "      <td>1</td>\n",
       "    </tr>\n",
       "    <tr>\n",
       "      <th>10</th>\n",
       "      <td>1</td>\n",
       "    </tr>\n",
       "  </tbody>\n",
       "</table>\n",
       "<p>11 rows × 1 columns</p>\n",
       "</div>"
      ],
      "text/plain": [
       "    pclass\n",
       "0        1\n",
       "1        1\n",
       "2        1\n",
       "3        1\n",
       "4        1\n",
       "..     ...\n",
       "6        1\n",
       "7        1\n",
       "8        1\n",
       "9        1\n",
       "10       1\n",
       "\n",
       "[11 rows x 1 columns]"
      ]
     },
     "execution_count": 135,
     "metadata": {},
     "output_type": "execute_result"
    }
   ],
   "source": [
    "#subset rows\n",
    "#df.loc[0:10]\n",
    "#df.loc[0:10,['Glucose']]\n",
    "#df.loc[0]\n",
    "\n",
    "df.loc[0:10,['pclass']]"
   ]
  },
  {
   "cell_type": "code",
   "execution_count": 136,
   "metadata": {},
   "outputs": [
    {
     "data": {
      "text/html": [
       "<div>\n",
       "<style scoped>\n",
       "    .dataframe tbody tr th:only-of-type {\n",
       "        vertical-align: middle;\n",
       "    }\n",
       "\n",
       "    .dataframe tbody tr th {\n",
       "        vertical-align: top;\n",
       "    }\n",
       "\n",
       "    .dataframe thead th {\n",
       "        text-align: right;\n",
       "    }\n",
       "</style>\n",
       "<table border=\"1\" class=\"dataframe\">\n",
       "  <thead>\n",
       "    <tr style=\"text-align: right;\">\n",
       "      <th></th>\n",
       "      <th>pclass</th>\n",
       "    </tr>\n",
       "  </thead>\n",
       "  <tbody>\n",
       "    <tr>\n",
       "      <th>0</th>\n",
       "      <td>1</td>\n",
       "    </tr>\n",
       "    <tr>\n",
       "      <th>1</th>\n",
       "      <td>1</td>\n",
       "    </tr>\n",
       "    <tr>\n",
       "      <th>2</th>\n",
       "      <td>1</td>\n",
       "    </tr>\n",
       "    <tr>\n",
       "      <th>3</th>\n",
       "      <td>1</td>\n",
       "    </tr>\n",
       "    <tr>\n",
       "      <th>4</th>\n",
       "      <td>1</td>\n",
       "    </tr>\n",
       "    <tr>\n",
       "      <th>5</th>\n",
       "      <td>1</td>\n",
       "    </tr>\n",
       "    <tr>\n",
       "      <th>6</th>\n",
       "      <td>1</td>\n",
       "    </tr>\n",
       "    <tr>\n",
       "      <th>7</th>\n",
       "      <td>1</td>\n",
       "    </tr>\n",
       "    <tr>\n",
       "      <th>8</th>\n",
       "      <td>1</td>\n",
       "    </tr>\n",
       "    <tr>\n",
       "      <th>9</th>\n",
       "      <td>1</td>\n",
       "    </tr>\n",
       "  </tbody>\n",
       "</table>\n",
       "</div>"
      ],
      "text/plain": [
       "   pclass\n",
       "0       1\n",
       "1       1\n",
       "2       1\n",
       "3       1\n",
       "4       1\n",
       "5       1\n",
       "6       1\n",
       "7       1\n",
       "8       1\n",
       "9       1"
      ]
     },
     "execution_count": 136,
     "metadata": {},
     "output_type": "execute_result"
    }
   ],
   "source": [
    "df.iloc[0:10,0:1]"
   ]
  },
  {
   "cell_type": "code",
   "execution_count": 137,
   "metadata": {},
   "outputs": [
    {
     "data": {
      "text/html": [
       "<div>\n",
       "<style scoped>\n",
       "    .dataframe tbody tr th:only-of-type {\n",
       "        vertical-align: middle;\n",
       "    }\n",
       "\n",
       "    .dataframe tbody tr th {\n",
       "        vertical-align: top;\n",
       "    }\n",
       "\n",
       "    .dataframe thead th {\n",
       "        text-align: right;\n",
       "    }\n",
       "</style>\n",
       "<table border=\"1\" class=\"dataframe\">\n",
       "  <thead>\n",
       "    <tr style=\"text-align: right;\">\n",
       "      <th></th>\n",
       "      <th>pclass</th>\n",
       "      <th>survived</th>\n",
       "      <th>age</th>\n",
       "    </tr>\n",
       "  </thead>\n",
       "  <tbody>\n",
       "    <tr>\n",
       "      <th>pclass</th>\n",
       "      <td>1.000000</td>\n",
       "      <td>-0.320486</td>\n",
       "      <td>-0.408106</td>\n",
       "    </tr>\n",
       "    <tr>\n",
       "      <th>survived</th>\n",
       "      <td>-0.320486</td>\n",
       "      <td>1.000000</td>\n",
       "      <td>-0.055513</td>\n",
       "    </tr>\n",
       "    <tr>\n",
       "      <th>age</th>\n",
       "      <td>-0.408106</td>\n",
       "      <td>-0.055513</td>\n",
       "      <td>1.000000</td>\n",
       "    </tr>\n",
       "  </tbody>\n",
       "</table>\n",
       "</div>"
      ],
      "text/plain": [
       "            pclass  survived       age\n",
       "pclass    1.000000 -0.320486 -0.408106\n",
       "survived -0.320486  1.000000 -0.055513\n",
       "age      -0.408106 -0.055513  1.000000"
      ]
     },
     "execution_count": 137,
     "metadata": {},
     "output_type": "execute_result"
    }
   ],
   "source": [
    "df.corr()"
   ]
  },
  {
   "cell_type": "code",
   "execution_count": 138,
   "metadata": {},
   "outputs": [
    {
     "name": "stdout",
     "output_type": "stream",
     "text": [
      "pclass     -0.406890\n",
      "survived    0.373995\n",
      "age         0.407672\n",
      "dtype: float64\n"
     ]
    }
   ],
   "source": [
    "skew = df.skew()\n",
    "print(skew)"
   ]
  },
  {
   "cell_type": "markdown",
   "metadata": {},
   "source": [
    "## 4. visualiser votre Dataset (matplotlib,seaborne)"
   ]
  },
  {
   "cell_type": "code",
   "execution_count": 139,
   "metadata": {},
   "outputs": [
    {
     "data": {
      "image/png": "[encoded data removed]",
      "text/plain": [
       "<Figure size 720x648 with 1 Axes>"
      ]
     },
     "metadata": {
      "needs_background": "light"
     },
     "output_type": "display_data"
    }
   ],
   "source": [
    "plt.figure(figsize=(10,9))\n",
    "#df['age'].plot.hist()\n",
    "df.age.plot(kind='hist')\n",
    "plt.title('Age')\n",
    "plt.xlabel('class_Age')\n",
    "plt.ylabel('Frequency')\n",
    "plt.legend()\n",
    "plt.savefig('./img/age.png')\n",
    "plt.show()"
   ]
  },
  {
   "cell_type": "code",
   "execution_count": 140,
   "metadata": {},
   "outputs": [
    {
     "data": {
      "image/png": "[encoded data removed]",
      "text/plain": [
       "<Figure size 720x648 with 1 Axes>"
      ]
     },
     "metadata": {
      "needs_background": "light"
     },
     "output_type": "display_data"
    }
   ],
   "source": [
    "plt.figure(figsize=(10,9))\n",
    "#df['pclass'].value_counts().plot.bar()\n",
    "df.pclass.value_counts().plot(kind='bar')\n",
    "plt.title('class')\n",
    "plt.xlabel('class')\n",
    "plt.ylabel('Frequency')\n",
    "plt.legend()\n",
    "plt.savefig('class.png')\n",
    "plt.show()"
   ]
  },
  {
   "cell_type": "code",
   "execution_count": 141,
   "metadata": {},
   "outputs": [
    {
     "data": {
      "image/png": "[encoded data removed]",
      "text/plain": [
       "<Figure size 720x648 with 1 Axes>"
      ]
     },
     "metadata": {
      "needs_background": "light"
     },
     "output_type": "display_data"
    }
   ],
   "source": [
    "plt.figure(figsize=(10,9))\n",
    "df[df['age'] < 18]['pclass'].value_counts().plot.bar()\n",
    "#df.pclass.value_counts().plot(kind='bar')\n",
    "plt.title('pclass')\n",
    "plt.xlabel('pclass')\n",
    "plt.ylabel('Frequency')\n",
    "plt.legend()\n",
    "plt.savefig('./img/class.png')\n",
    "plt.show()"
   ]
  },
  {
   "cell_type": "code",
   "execution_count": 142,
   "metadata": {},
   "outputs": [
    {
     "data": {
      "text/plain": [
       "<Figure size 1080x648 with 0 Axes>"
      ]
     },
     "metadata": {},
     "output_type": "display_data"
    },
    {
     "data": {
      "image/png": "[encoded data removed]",
      "text/plain": [
       "<Figure size 432x288 with 9 Axes>"
      ]
     },
     "metadata": {
      "needs_background": "light"
     },
     "output_type": "display_data"
    }
   ],
   "source": [
    "# scatter plot matrix\n",
    "from pandas.plotting import scatter_matrix\n",
    "plt.figure(figsize=(15,9))\n",
    "scatter_matrix(df)\n",
    "plt.show()"
   ]
  },
  {
   "cell_type": "code",
   "execution_count": 143,
   "metadata": {},
   "outputs": [
    {
     "data": {
      "text/plain": [
       "<Figure size 1080x648 with 0 Axes>"
      ]
     },
     "metadata": {},
     "output_type": "display_data"
    },
    {
     "data": {
      "image/png": "[encoded data removed]",
      "text/plain": [
       "<Figure size 540x540 with 12 Axes>"
      ]
     },
     "metadata": {
      "needs_background": "light"
     },
     "output_type": "display_data"
    }
   ],
   "source": [
    "plt.figure(figsize=(15,9))\n",
    "sns.pairplot(df)\n",
    "plt.show()"
   ]
  },
  {
   "cell_type": "code",
   "execution_count": 144,
   "metadata": {},
   "outputs": [
    {
     "data": {
      "text/plain": [
       "<Figure size 1080x648 with 0 Axes>"
      ]
     },
     "metadata": {},
     "output_type": "display_data"
    },
    {
     "data": {
      "image/png": "[encoded data removed]",
      "text/plain": [
       "<Figure size 432x288 with 3 Axes>"
      ]
     },
     "metadata": {
      "needs_background": "light"
     },
     "output_type": "display_data"
    }
   ],
   "source": [
    "plt.figure(figsize=(15,9))\n",
    "df.plot(kind='density', subplots=True, layout=(1,3), sharex=False)\n",
    "plt.show()"
   ]
  },
  {
   "cell_type": "code",
   "execution_count": 145,
   "metadata": {},
   "outputs": [
    {
     "data": {
      "text/plain": [
       "<Figure size 1080x648 with 0 Axes>"
      ]
     },
     "metadata": {},
     "output_type": "display_data"
    },
    {
     "data": {
      "image/png": "[encoded data removed]",
      "text/plain": [
       "<Figure size 432x288 with 3 Axes>"
      ]
     },
     "metadata": {
      "needs_background": "light"
     },
     "output_type": "display_data"
    }
   ],
   "source": [
    "# histograms\n",
    "plt.figure(figsize=(15,9))\n",
    "df.hist(layout=(1,3))\n",
    "plt.show()"
   ]
  },
  {
   "cell_type": "code",
   "execution_count": 146,
   "metadata": {},
   "outputs": [
    {
     "data": {
      "text/plain": [
       "<Figure size 1080x648 with 0 Axes>"
      ]
     },
     "metadata": {},
     "output_type": "display_data"
    },
    {
     "data": {
      "image/png": "[encoded data removed]",
      "text/plain": [
       "<Figure size 432x288 with 3 Axes>"
      ]
     },
     "metadata": {
      "needs_background": "light"
     },
     "output_type": "display_data"
    }
   ],
   "source": [
    "# box and whisker plots\n",
    "plt.figure(figsize=(15,9))\n",
    "df.plot(kind='box', subplots=True, layout=(1,3), sharex=False, sharey=False)\n",
    "plt.show()"
   ]
  },
  {
   "cell_type": "code",
   "execution_count": 147,
   "metadata": {},
   "outputs": [
    {
     "data": {
      "image/png": "[encoded data removed]",
      "text/plain": [
       "<Figure size 1080x648 with 2 Axes>"
      ]
     },
     "metadata": {
      "needs_background": "light"
     },
     "output_type": "display_data"
    }
   ],
   "source": [
    "corrmat = df.corr()\n",
    "top_corr_features = corrmat.index\n",
    "plt.figure(figsize=(15,9))\n",
    "#plot heat map\n",
    "sns.heatmap(df[top_corr_features].corr(),annot=True,cmap=\"RdYlGn\")\n",
    "plt.show()"
   ]
  },
  {
   "cell_type": "code",
   "execution_count": 148,
   "metadata": {},
   "outputs": [],
   "source": [
    "#seaborne\n",
    "#mat=df.corr()\n",
    "#mat=dataset.corr()\n",
    "#ax=sns.heatmap(mat,annot=True,fmt='.2g',cmap='Blues_r')\n",
    "#b, t = plt.ylim() # discover the values for bottom and top\n",
    "#b += 0.5 # Add 0.5 to the bottom\n",
    "#t -= 0.5 # Subtract 0.5 from the top\n",
    "#plt.ylim(b, t) # update the ylim(bottom, top) values\n",
    "#plt.title('Correlation between various numerical parameters in dataset')\n",
    "\n",
    "#sns.countplot(x='Pregnancies',data=dataset)\n",
    "#sns.countplot(x='Pregnancies',data=df)\n",
    "#sns.histplot(df.Pregnancies,kde=True)# kde=False enlever la courbe sous jascente \n",
    "#plt.show()\n",
    "#,col='Outcome'\n",
    "#,hue='Outcome'\n",
    "#sns.lmplot(x='BloodPressure',y='Glucose',data=df,fit_reg=False)\n",
    "#plt.show()"
   ]
  },
  {
   "cell_type": "code",
   "execution_count": 149,
   "metadata": {},
   "outputs": [
    {
     "data": {
      "image/png": "[encoded data removed]",
      "text/plain": [
       "<Figure size 1080x648 with 1 Axes>"
      ]
     },
     "metadata": {
      "needs_background": "light"
     },
     "output_type": "display_data"
    }
   ],
   "source": [
    "plt.figure(figsize=(15,9))\n",
    "colours=[\"#f7b2b0\",\"#8f7198\", \"#003f5c\"]\n",
    "sns.countplot(data= df, x=\"survived\",palette=colours)\n",
    "plt.show()"
   ]
  },
  {
   "cell_type": "code",
   "execution_count": 150,
   "metadata": {},
   "outputs": [
    {
     "data": {
      "image/png": "[encoded data removed]",
      "text/plain": [
       "<Figure size 1080x648 with 1 Axes>"
      ]
     },
     "metadata": {
      "needs_background": "light"
     },
     "output_type": "display_data"
    }
   ],
   "source": [
    "plt.figure(figsize=(15,9))\n",
    "sns.histplot(df.age,kde=True)  # kde=False enlever la courbe sous jascente \n",
    "plt.show()"
   ]
  },
  {
   "cell_type": "markdown",
   "metadata": {},
   "source": [
    "## 5. modeliser votre Dataset "
   ]
  },
  {
   "cell_type": "code",
   "execution_count": 175,
   "metadata": {},
   "outputs": [],
   "source": [
    "import sklearn\n",
    "from sklearn.ensemble import RandomForestClassifier\n",
    "from sklearn.model_selection import train_test_split\n",
    "#metrics : Classification (For Categorical variables)\n",
    "from sklearn.metrics import classification_report\n",
    "from sklearn.metrics import confusion_matrix\n",
    "from sklearn.metrics import accuracy_score\n",
    "#metrics : Regression(For Continous variables)\n",
    "#from sklearn.metrics import mean_absolute_error\n",
    "#from sklearn.metrics import mean_squared_error"
   ]
  },
  {
   "cell_type": "code",
   "execution_count": 176,
   "metadata": {},
   "outputs": [
    {
     "name": "stdout",
     "output_type": "stream",
     "text": [
      "sklearn: 0.24.0\n"
     ]
    }
   ],
   "source": [
    "print('sklearn: {}'.format(sklearn.__version__))"
   ]
  },
  {
   "cell_type": "code",
   "execution_count": 177,
   "metadata": {},
   "outputs": [],
   "source": [
    "x0=['pclass','pclass','age']\n",
    "x = df[x0]\n",
    "y = df['survived']"
   ]
  },
  {
   "cell_type": "code",
   "execution_count": 178,
   "metadata": {},
   "outputs": [
    {
     "name": "stdout",
     "output_type": "stream",
     "text": [
      "type(x): <class 'pandas.core.frame.DataFrame'>\n",
      "x.shape: (1046, 3)\n",
      "------------\n",
      "type(y): <class 'pandas.core.series.Series'>\n",
      "y.shape: (1046,)\n"
     ]
    }
   ],
   "source": [
    "print(\"type(x):\",type(x))\n",
    "print(\"x.shape:\",x.shape) # x=futures doit etre dataframe\n",
    "print('------------')\n",
    "print(\"type(y):\",type(y))\n",
    "print(\"y.shape:\",y.shape)# y=target doit etre une series "
   ]
  },
  {
   "cell_type": "code",
   "execution_count": 179,
   "metadata": {},
   "outputs": [],
   "source": [
    "x_train, x_test, y_train, y_test = train_test_split(x,y,test_size = .3,random_state = 0)"
   ]
  },
  {
   "cell_type": "markdown",
   "metadata": {},
   "source": [
    "## 5.1 RandomForestClassifier"
   ]
  },
  {
   "cell_type": "code",
   "execution_count": 180,
   "metadata": {},
   "outputs": [],
   "source": [
    "classifier = RandomForestClassifier(n_estimators = 6, criterion = 'entropy', random_state = 0)"
   ]
  },
  {
   "cell_type": "code",
   "execution_count": 181,
   "metadata": {},
   "outputs": [
    {
     "data": {
      "text/plain": [
       "RandomForestClassifier(criterion='entropy', n_estimators=6, random_state=0)"
      ]
     },
     "execution_count": 181,
     "metadata": {},
     "output_type": "execute_result"
    }
   ],
   "source": [
    "classifier.fit(x_train, y_train)"
   ]
  },
  {
   "cell_type": "code",
   "execution_count": 182,
   "metadata": {},
   "outputs": [
    {
     "name": "stdout",
     "output_type": "stream",
     "text": [
      "(732, 3)\n",
      "(732,)\n",
      "------------\n",
      "(314, 3)\n",
      "(314,)\n"
     ]
    }
   ],
   "source": [
    "print(x_train.shape)\n",
    "print(y_train.shape)\n",
    "print('------------')\n",
    "print(x_test.shape)\n",
    "print(y_test.shape)"
   ]
  },
  {
   "cell_type": "code",
   "execution_count": 183,
   "metadata": {},
   "outputs": [
    {
     "data": {
      "text/plain": [
       "0.6305732484076433"
      ]
     },
     "execution_count": 183,
     "metadata": {},
     "output_type": "execute_result"
    }
   ],
   "source": [
    "classifier.score(x_test,y_test)"
   ]
  },
  {
   "cell_type": "code",
   "execution_count": 184,
   "metadata": {},
   "outputs": [],
   "source": [
    "y_pred = classifier.predict(x_test)\n",
    "# metrics: Classification (For Categorical variables) : confusion_matrix /  classification_report  / accuracy_score\n",
    "cm=confusion_matrix(y_test, y_pred)"
   ]
  },
  {
   "cell_type": "code",
   "execution_count": 185,
   "metadata": {},
   "outputs": [
    {
     "data": {
      "text/plain": [
       "array([[131,  54],\n",
       "       [ 62,  67]], dtype=int64)"
      ]
     },
     "execution_count": 185,
     "metadata": {},
     "output_type": "execute_result"
    }
   ],
   "source": [
    "cm"
   ]
  },
  {
   "cell_type": "code",
   "execution_count": 186,
   "metadata": {},
   "outputs": [],
   "source": [
    "TP=cm[1,1]\n",
    "FN=cm[1,0]\n",
    "FP=cm[0,1]\n",
    "TN=cm[0,0]"
   ]
  },
  {
   "cell_type": "code",
   "execution_count": 187,
   "metadata": {},
   "outputs": [
    {
     "name": "stdout",
     "output_type": "stream",
     "text": [
      "TP: 67\n",
      "FN: 62\n",
      "FP: 54\n",
      "TN: 131\n"
     ]
    }
   ],
   "source": [
    "print('TP:',TP)\n",
    "print('FN:',FN)\n",
    "print('FP:',FP)\n",
    "print('TN:',TN)"
   ]
  },
  {
   "cell_type": "code",
   "execution_count": 188,
   "metadata": {},
   "outputs": [
    {
     "name": "stdout",
     "output_type": "stream",
     "text": [
      "              precision    recall  f1-score   support\n",
      "\n",
      "           0       0.68      0.71      0.69       185\n",
      "           1       0.55      0.52      0.54       129\n",
      "\n",
      "    accuracy                           0.63       314\n",
      "   macro avg       0.62      0.61      0.61       314\n",
      "weighted avg       0.63      0.63      0.63       314\n",
      "\n"
     ]
    }
   ],
   "source": [
    "print(classification_report(y_test, y_pred))"
   ]
  },
  {
   "cell_type": "code",
   "execution_count": 189,
   "metadata": {},
   "outputs": [
    {
     "name": "stdout",
     "output_type": "stream",
     "text": [
      "0.6305732484076433\n"
     ]
    }
   ],
   "source": [
    "print (accuracy_score(y_test,y_pred))"
   ]
  },
  {
   "cell_type": "code",
   "execution_count": 190,
   "metadata": {},
   "outputs": [
    {
     "data": {
      "text/plain": [
       "0.5193798449612403"
      ]
     },
     "execution_count": 190,
     "metadata": {},
     "output_type": "execute_result"
    }
   ],
   "source": [
    "#metrics \n",
    "from sklearn.metrics import recall_score\n",
    "recall_score(y_test,y_pred)"
   ]
  },
  {
   "cell_type": "code",
   "execution_count": 191,
   "metadata": {},
   "outputs": [
    {
     "data": {
      "text/plain": [
       "0.5537190082644629"
      ]
     },
     "execution_count": 191,
     "metadata": {},
     "output_type": "execute_result"
    }
   ],
   "source": [
    "from sklearn.metrics import precision_score\n",
    "precision_score(y_test,y_pred)"
   ]
  },
  {
   "cell_type": "code",
   "execution_count": 192,
   "metadata": {},
   "outputs": [
    {
     "data": {
      "text/plain": [
       "0.536"
      ]
     },
     "execution_count": 192,
     "metadata": {},
     "output_type": "execute_result"
    }
   ],
   "source": [
    "from sklearn.metrics import f1_score\n",
    "f1_score(y_test,y_pred)"
   ]
  },
  {
   "cell_type": "code",
   "execution_count": 193,
   "metadata": {},
   "outputs": [
    {
     "name": "stdout",
     "output_type": "stream",
     "text": [
      "[0.         0.29189189 1.        ]\n",
      "[0.         0.51937984 1.        ]\n",
      "[2 1 0]\n"
     ]
    },
    {
     "data": {
      "image/png": "[encoded data removed]",
      "text/plain": [
       "<Figure size 432x288 with 1 Axes>"
      ]
     },
     "metadata": {
      "needs_background": "light"
     },
     "output_type": "display_data"
    }
   ],
   "source": [
    "from sklearn.metrics import roc_curve\n",
    "\n",
    "fpr_RF, tpr_RF, thresholds_RF = roc_curve(y_test,y_pred)\n",
    "print(fpr_RF)\n",
    "print(tpr_RF)\n",
    "print(thresholds_RF)\n",
    "\n",
    "plt.plot(fpr_RF, tpr_RF,'r-',label = 'RF')\n",
    "plt.plot([0,1],[0,1],'k-',label='random')\n",
    "plt.plot([0,0,1,1],[0,1,1,1],'g-',label='perfect')\n",
    "plt.legend()\n",
    "plt.xlabel('False Positive Rate')\n",
    "plt.ylabel('True Positive Rate')\n",
    "plt.show()"
   ]
  },
  {
   "cell_type": "code",
   "execution_count": 194,
   "metadata": {},
   "outputs": [
    {
     "name": "stdout",
     "output_type": "stream",
     "text": [
      "AUC RF:0.614\n"
     ]
    },
    {
     "data": {
      "image/png": "[encoded data removed]",
      "text/plain": [
       "<Figure size 432x288 with 1 Axes>"
      ]
     },
     "metadata": {
      "needs_background": "light"
     },
     "output_type": "display_data"
    }
   ],
   "source": [
    "from sklearn.metrics import roc_auc_score\n",
    "\n",
    "auc_RF = roc_auc_score(y_test,y_pred)\n",
    "print('AUC RF:%.3f'% auc_RF)\n",
    "\n",
    "plt.plot(fpr_RF, tpr_RF,'r-',label = 'RF AUC: %.3f'%auc_RF)\n",
    "plt.plot([0,1],[0,1],'k-',label='random')\n",
    "plt.plot([0,0,1,1],[0,1,1,1],'g-',label='perfect')\n",
    "plt.legend()\n",
    "plt.xlabel('False Positive Rate')\n",
    "plt.ylabel('True Positive Rate')\n",
    "plt.show()"
   ]
  },
  {
   "cell_type": "code",
   "execution_count": 195,
   "metadata": {},
   "outputs": [
    {
     "name": "stdout",
     "output_type": "stream",
     "text": [
      "==testing==\n",
      "MAE : 0.36942675159235666\n",
      "MSE : 0.36942675159235666\n",
      "RMSE : 0.6078048630871232\n",
      "R2S : -0.5262518332285773\n"
     ]
    }
   ],
   "source": [
    "#metrics Regression(For Continous variables) : mae / mse / r*r \n",
    "print('==testing==')\n",
    "from sklearn.metrics import mean_absolute_error\n",
    "mae=mean_absolute_error(y_test, y_pred)\n",
    "print('MAE :',mae)\n",
    "from sklearn.metrics import mean_squared_error\n",
    "mse=mean_squared_error(y_test,y_pred)\n",
    "print('MSE :',mse)\n",
    "rmse=np.sqrt(mse)\n",
    "print('RMSE :',rmse)\n",
    "from sklearn.metrics import r2_score\n",
    "r2s=r2_score(y_test,y_pred)\n",
    "print('R2S :',r2s)"
   ]
  },
  {
   "cell_type": "code",
   "execution_count": 196,
   "metadata": {},
   "outputs": [
    {
     "name": "stdout",
     "output_type": "stream",
     "text": [
      "[0]\n",
      "[1]\n"
     ]
    }
   ],
   "source": [
    "p10=[1,1,20]\n",
    "p1=classifier.predict(np.array([p10]))\n",
    "print(p1)\n",
    "p20=[1,1,25]\n",
    "p2=classifier.predict(np.array([p20]))\n",
    "print(p2)"
   ]
  },
  {
   "cell_type": "code",
   "execution_count": 197,
   "metadata": {},
   "outputs": [],
   "source": [
    "#saving data\n",
    "df.to_csv('./output/modified.csv', index=False)"
   ]
  },
  {
   "cell_type": "code",
   "execution_count": 198,
   "metadata": {},
   "outputs": [
    {
     "name": "stdout",
     "output_type": "stream",
     "text": [
      "[0]\n"
     ]
    }
   ],
   "source": [
    "#saving model (joblib,pickle)\n",
    "import sklearn.externals\n",
    "import joblib\n",
    "joblib.dump(classifier,\"./models/tibaredha_mdl\")\n",
    "tibaredha=joblib.load(\"./models/tibaredha_mdl\")\n",
    "pre=[1,1,20]\n",
    "res=tibaredha.predict([pre])\n",
    "print (res)\n",
    "\n",
    "#import pickle \n",
    "#with open(\"tiba\",\"wb\") as f:\n",
    "#pickle.dump(model,f)\n",
    "#with open(\"tiba\",\"rb\") as f:\n",
    "#mp=pickle.load(f)\n",
    "#p1=[[3000,3,40]]\n",
    "#mp.predict(p1)"
   ]
  },
  {
   "cell_type": "markdown",
   "metadata": {},
   "source": [
    "## 5.2 ExtraTreesRegressor"
   ]
  },
  {
   "cell_type": "code",
   "execution_count": 199,
   "metadata": {},
   "outputs": [
    {
     "name": "stdout",
     "output_type": "stream",
     "text": [
      "[0.15356994 0.1644969  0.68193315]\n"
     ]
    },
    {
     "data": {
      "text/plain": [
       "<AxesSubplot:>"
      ]
     },
     "execution_count": 199,
     "metadata": {},
     "output_type": "execute_result"
    },
    {
     "data": {
      "image/png": "[encoded data removed]",
      "text/plain": [
       "<Figure size 432x288 with 1 Axes>"
      ]
     },
     "metadata": {
      "needs_background": "light"
     },
     "output_type": "display_data"
    }
   ],
   "source": [
    "from sklearn.ensemble import ExtraTreesRegressor\n",
    "model = ExtraTreesRegressor()\n",
    "model.fit(x,y)\n",
    "print(model.feature_importances_)\t\n",
    "feat_importances = pd.Series(model.feature_importances_, index=x.columns)\n",
    "feat_importances.nlargest(5).plot(kind='barh')"
   ]
  },
  {
   "cell_type": "markdown",
   "metadata": {},
   "source": [
    "## 5.3  LinearRegression"
   ]
  },
  {
   "cell_type": "code",
   "execution_count": 200,
   "metadata": {},
   "outputs": [
    {
     "data": {
      "text/plain": [
       "array([1.33017681e+14])"
      ]
     },
     "execution_count": 200,
     "metadata": {},
     "output_type": "execute_result"
    }
   ],
   "source": [
    "from sklearn import linear_model as lm\n",
    "model= lm.LinearRegression()\n",
    "model.fit(x,y)\n",
    "model.coef_\n",
    "model.intercept_\n",
    "model.score(x,y)\n",
    "pln=[[148,78,6]]\n",
    "model.predict(pln)"
   ]
  },
  {
   "cell_type": "markdown",
   "metadata": {},
   "source": [
    "## 5.4 models"
   ]
  },
  {
   "cell_type": "code",
   "execution_count": 201,
   "metadata": {},
   "outputs": [],
   "source": [
    "from sklearn.linear_model import LogisticRegression\n",
    "from sklearn.tree import DecisionTreeClassifier\n",
    "from sklearn.svm import SVC\n",
    "from sklearn.svm import LinearSVC\n",
    "from sklearn.pipeline import Pipeline\n",
    "from sklearn import preprocessing\n",
    "from sklearn.preprocessing import StandardScaler\n",
    "from sklearn.model_selection import GridSearchCV\n",
    "from sklearn.model_selection import cross_val_score\n",
    "from sklearn.metrics import precision_score, recall_score, accuracy_score, f1_score\n",
    "from sklearn import metrics\n",
    "from sklearn.metrics import roc_curve, auc, roc_auc_score\n",
    "np.random.seed(0)"
   ]
  },
  {
   "cell_type": "code",
   "execution_count": 202,
   "metadata": {},
   "outputs": [
    {
     "name": "stdout",
     "output_type": "stream",
     "text": [
      "----------------------------------\n",
      "1 Logistic Regression: [68.307710]  (0.020294)  \n",
      "----------------------------------\n",
      "2 Decision Tree: [63.242010]  (0.032316)  \n",
      "----------------------------------\n",
      "3 RandomForest: [63.378060]  (0.035200)  \n",
      "----------------------------------\n",
      "4 SVC: [61.476100]  (0.004794)  \n",
      "----------------------------------\n",
      "5 LSVC: [68.307710]  (0.022901)  \n",
      "----------------------------------\n",
      "6 knn: [62.829190]  (0.041961)  \n",
      "----------------------------------\n",
      "7 GaussianNB: [68.303980]  (0.015087)  \n",
      "----------------------------------\n",
      "8 Perceptron: [60.651380]  (0.023725)  \n",
      "----------------------------------\n",
      "9 SGDClassifier: [58.899450]  (0.094176)  \n",
      "----------------------------------\n",
      "10 RidgeClassifier: [68.307710]  (0.022901)  \n",
      "----------------------------------\n",
      "11 BaggingClassifier: [62.417300]  (0.050501)  \n"
     ]
    }
   ],
   "source": [
    "#A quick model selection process\n",
    "#pipelines of models( it is short was to fit and pred)\n",
    "pipeline_lr=Pipeline([('lr_classifier',LogisticRegression(random_state=42))])\n",
    "pipeline_dt=Pipeline([ ('dt_classifier',DecisionTreeClassifier(random_state=42))])\n",
    "pipeline_rf=Pipeline([('rf_classifier',RandomForestClassifier())])\n",
    "pipeline_svc=Pipeline([('sv_classifier',SVC())])\n",
    "\n",
    "pipeline_lsvc=Pipeline([('lsv_classifier',LinearSVC(dual=False))])\n",
    "\n",
    "from sklearn.neighbors import KNeighborsClassifier\n",
    "pipeline_knn=Pipeline([('knn',KNeighborsClassifier())])\n",
    "\n",
    "from sklearn.naive_bayes import GaussianNB\n",
    "pipeline_GaussianNB=Pipeline([('GaussianNB', GaussianNB())])\n",
    "\n",
    "from sklearn.linear_model import Perceptron\n",
    "pipeline_Perceptron=Pipeline([('Perceptron',Perceptron())])\n",
    "\n",
    "from sklearn.linear_model import SGDClassifier\n",
    "pipeline_SGDClassifier=Pipeline([('SGDClassifier',SGDClassifier())])\n",
    "\n",
    "from sklearn.linear_model import  RidgeClassifier\n",
    "pipeline_RidgeClassifier=Pipeline([('RidgeClassifier',RidgeClassifier())])\n",
    "\n",
    "from sklearn.ensemble import BaggingClassifier\n",
    "pipeline_BaggingClassifier=Pipeline([('BaggingClassifier',BaggingClassifier())])\n",
    "\n",
    "\n",
    "\n",
    "# List of all the pipelines\n",
    "pipelines = [pipeline_lr, pipeline_dt, pipeline_rf, pipeline_svc,pipeline_lsvc,\n",
    "             pipeline_knn,pipeline_GaussianNB,pipeline_Perceptron,pipeline_SGDClassifier,\n",
    "             pipeline_RidgeClassifier,pipeline_BaggingClassifier]\n",
    "\n",
    "# Dictionary of pipelines and classifier types for ease of reference\n",
    "pipe_dict = {0: 'Logistic Regression', 1: 'Decision Tree', 2: 'RandomForest', 3: \"SVC\",\n",
    "             4: \"LSVC\",5:\"knn\",6:\"GaussianNB\",7:\"Perceptron\",8:\"SGDClassifier\",\n",
    "             9:\"RidgeClassifier\",10:\"BaggingClassifier\"}\n",
    "\n",
    "\n",
    "# Fit the pipelines\n",
    "for pipe in pipelines:\n",
    "    pipe.fit(x_train, y_train)\n",
    "\n",
    "#cross validation on accuracy \n",
    "cv_results_accuracy = []\n",
    "names = []\n",
    "#cv_results_accuracy = []\n",
    "for i, model in enumerate(pipelines):\n",
    "    cv_score = cross_val_score(model, x_train,y_train, cv=5 )\n",
    "    cv_results_accuracy.append(cv_score)\n",
    "    names.append(i)\n",
    "    print(\"----------------------------------\")\n",
    "    print(i+1,\"%s: [%f]  (%f)  \" % (pipe_dict[i],round(cv_score.mean() * 100 , 5), cv_score.std()))"
   ]
  },
  {
   "cell_type": "code",
   "execution_count": 203,
   "metadata": {},
   "outputs": [
    {
     "data": {
      "image/png": "[encoded data removed]",
      "text/plain": [
       "<Figure size 720x648 with 1 Axes>"
      ]
     },
     "metadata": {
      "needs_background": "light"
     },
     "output_type": "display_data"
    }
   ],
   "source": [
    "# Compare Algorithms\n",
    "plt.figure(figsize=(10,9))\n",
    "plt.boxplot(cv_results_accuracy, labels=names)\n",
    "plt.title('Algorithm Comparison')\n",
    "plt.savefig('./img/algorithme.png')\n",
    "plt.show()\n",
    "#print(cv_results_accuracy)"
   ]
  },
  {
   "cell_type": "code",
   "execution_count": 204,
   "metadata": {},
   "outputs": [
    {
     "name": "stdout",
     "output_type": "stream",
     "text": [
      "0.6687898089171974\n"
     ]
    }
   ],
   "source": [
    "#taking look at the test set\n",
    "pred_rfc = pipeline_rf.predict(x_test)\n",
    "accuracy = accuracy_score(y_test, pred_rfc)\n",
    "print(accuracy)"
   ]
  },
  {
   "cell_type": "code",
   "execution_count": 205,
   "metadata": {},
   "outputs": [
    {
     "data": {
      "text/plain": [
       "67.52"
      ]
     },
     "execution_count": 205,
     "metadata": {},
     "output_type": "execute_result"
    }
   ],
   "source": [
    "logreg = LogisticRegression()\n",
    "logreg.fit (x_test,y_test)\n",
    "acc_log = round(logreg.score(x_test,y_test) * 100, 2)\n",
    "acc_log"
   ]
  },
  {
   "cell_type": "code",
   "execution_count": 206,
   "metadata": {},
   "outputs": [
    {
     "data": {
      "text/plain": [
       "61.15"
      ]
     },
     "execution_count": 206,
     "metadata": {},
     "output_type": "execute_result"
    }
   ],
   "source": [
    "svc = SVC()\n",
    "svc.fit(x_test,y_test)\n",
    "acc_svc = round(svc.score(x_test,y_test) * 100, 2)\n",
    "acc_svc"
   ]
  },
  {
   "cell_type": "code",
   "execution_count": 207,
   "metadata": {},
   "outputs": [
    {
     "data": {
      "text/plain": [
       "67.52"
      ]
     },
     "execution_count": 207,
     "metadata": {},
     "output_type": "execute_result"
    }
   ],
   "source": [
    "linear_svc = LinearSVC(dual=False)  # dual=False when n_samples > n_features.\n",
    "linear_svc.fit(x_test,y_test)\n",
    "acc_linear_svc = round(linear_svc.score(x_test,y_test) * 100, 2)\n",
    "acc_linear_svc"
   ]
  },
  {
   "cell_type": "code",
   "execution_count": 208,
   "metadata": {},
   "outputs": [
    {
     "name": "stdout",
     "output_type": "stream",
     "text": [
      "73.57 {'n_neighbors': 2}\n"
     ]
    }
   ],
   "source": [
    "from sklearn.neighbors import KNeighborsClassifier\n",
    "knn = GridSearchCV(estimator=KNeighborsClassifier(), param_grid={'n_neighbors': [2, 3]}, cv=10).fit(x_test,y_test)\n",
    "acc_knn = round(knn.score(x_test,y_test) * 100, 2)\n",
    "print(acc_knn, knn.best_params_)"
   ]
  },
  {
   "cell_type": "code",
   "execution_count": 209,
   "metadata": {},
   "outputs": [
    {
     "data": {
      "text/plain": [
       "67.83"
      ]
     },
     "execution_count": 209,
     "metadata": {},
     "output_type": "execute_result"
    }
   ],
   "source": [
    "# Gaussian Naive Bayes\n",
    "from sklearn.naive_bayes import GaussianNB\n",
    "gaussian = GaussianNB()\n",
    "gaussian.fit(x_test,y_test)\n",
    "acc_gaussian = round(gaussian.score(x_test,y_test) * 100, 2)\n",
    "acc_gaussian"
   ]
  },
  {
   "cell_type": "code",
   "execution_count": 210,
   "metadata": {},
   "outputs": [
    {
     "data": {
      "text/plain": [
       "41.08"
      ]
     },
     "execution_count": 210,
     "metadata": {},
     "output_type": "execute_result"
    }
   ],
   "source": [
    "# Perceptron\n",
    "from sklearn.linear_model import Perceptron\n",
    "perceptron = Perceptron()\n",
    "perceptron.fit(x_test,y_test)\n",
    "acc_perceptron = round(perceptron.score(x_test,y_test) * 100, 2)\n",
    "acc_perceptron"
   ]
  },
  {
   "cell_type": "code",
   "execution_count": 211,
   "metadata": {},
   "outputs": [
    {
     "data": {
      "text/plain": [
       "62.74"
      ]
     },
     "execution_count": 211,
     "metadata": {},
     "output_type": "execute_result"
    }
   ],
   "source": [
    "# Stochastic Gradient Descent \n",
    "from sklearn.linear_model import SGDClassifier\n",
    "sgd = SGDClassifier()\n",
    "sgd.fit(x_test,y_test)\n",
    "acc_sgd = round(sgd.score(x_test,y_test) * 100, 2)\n",
    "acc_sgd"
   ]
  },
  {
   "cell_type": "code",
   "execution_count": 212,
   "metadata": {},
   "outputs": [
    {
     "data": {
      "text/plain": [
       "80.89"
      ]
     },
     "execution_count": 212,
     "metadata": {},
     "output_type": "execute_result"
    }
   ],
   "source": [
    "# Decision Tree Classifier\n",
    "\n",
    "decision_tree = DecisionTreeClassifier()\n",
    "decision_tree.fit(x_test,y_test)\n",
    "acc_decision_tree = round(decision_tree.score(x_test,y_test) * 100, 2)\n",
    "acc_decision_tree"
   ]
  },
  {
   "cell_type": "code",
   "execution_count": 213,
   "metadata": {},
   "outputs": [
    {
     "name": "stdout",
     "output_type": "stream",
     "text": [
      "80.89 {'n_estimators': 100}\n"
     ]
    }
   ],
   "source": [
    "# Random Forest\n",
    "\n",
    "random_forest = GridSearchCV(estimator=RandomForestClassifier(), param_grid={'n_estimators': [100, 300]}, cv=5).fit(x_test,y_test)\n",
    "random_forest.fit(x_test,y_test)\n",
    "acc_random_forest = round(random_forest.score(x_test,y_test) * 100, 2)\n",
    "print(acc_random_forest,random_forest.best_params_)"
   ]
  },
  {
   "cell_type": "code",
   "execution_count": 214,
   "metadata": {},
   "outputs": [
    {
     "data": {
      "text/plain": [
       "67.52"
      ]
     },
     "execution_count": 214,
     "metadata": {},
     "output_type": "execute_result"
    }
   ],
   "source": [
    "# Ridge Classifier\n",
    "from sklearn.linear_model import  RidgeClassifier\n",
    "ridge_classifier = RidgeClassifier()\n",
    "ridge_classifier.fit(x_test,y_test)\n",
    "acc_ridge_classifier = round(ridge_classifier.score(x_test,y_test) * 100, 2)\n",
    "acc_ridge_classifier"
   ]
  },
  {
   "cell_type": "code",
   "execution_count": 215,
   "metadata": {},
   "outputs": [
    {
     "data": {
      "text/plain": [
       "79.94"
      ]
     },
     "execution_count": 215,
     "metadata": {},
     "output_type": "execute_result"
    }
   ],
   "source": [
    "# Bagging Classifier , AdaBoostClassifier, VotingClassifier \n",
    "from sklearn.ensemble import BaggingClassifier\n",
    "bagging_classifier = BaggingClassifier()\n",
    "bagging_classifier.fit(x_test,y_test)\n",
    "Y_pred = bagging_classifier.predict(x_test).astype(int)\n",
    "acc_bagging_classifier = round(bagging_classifier.score(x_test,y_test) * 100, 2)\n",
    "acc_bagging_classifier"
   ]
  },
  {
   "cell_type": "code",
   "execution_count": 216,
   "metadata": {},
   "outputs": [],
   "source": [
    "def build_ann(optimizer='adam'):\n",
    "    \n",
    "    # Initializing the ANN\n",
    "    ann = Sequential()\n",
    "    \n",
    "    # Adding the input layer and the first hidden layer of the ANN with dropout\n",
    "    ann.add(Dense(units=32, kernel_initializer='glorot_uniform', activation='relu', input_shape=(len(x_train.columns),)))\n",
    "    \n",
    "    # Add other layers, it is not necessary to pass the shape because there is a layer before\n",
    "    ann.add(Dense(units=64, kernel_initializer='glorot_uniform', activation='relu'))\n",
    "    ann.add(Dropout(rate=0.5))\n",
    "    ann.add(Dense(units=64, kernel_initializer='glorot_uniform', activation='relu'))\n",
    "    ann.add(Dropout(rate=0.5))\n",
    "    \n",
    "    # Adding the output layer\n",
    "    ann.add(Dense(units=1, kernel_initializer='glorot_uniform', activation='sigmoid'))\n",
    "    \n",
    "    # Compiling the ANN\n",
    "    ann.compile(optimizer=optimizer, loss='binary_crossentropy', metrics=['accuracy'])\n",
    "    \n",
    "    return ann"
   ]
  },
  {
   "cell_type": "code",
   "execution_count": 218,
   "metadata": {},
   "outputs": [
    {
     "name": "stdout",
     "output_type": "stream",
     "text": [
      "Epoch 1/100\n",
      "46/46 [==============================] - 1s 7ms/step - loss: 1.4705 - accuracy: 0.5167 - val_loss: 0.7149 - val_accuracy: 0.3949\n",
      "Epoch 2/100\n",
      "46/46 [==============================] - 0s 4ms/step - loss: 0.9245 - accuracy: 0.5126 - val_loss: 0.6846 - val_accuracy: 0.5987\n",
      "Epoch 3/100\n",
      "46/46 [==============================] - 0s 3ms/step - loss: 0.7855 - accuracy: 0.5394 - val_loss: 0.6703 - val_accuracy: 0.5892\n",
      "Epoch 4/100\n",
      "46/46 [==============================] - 0s 3ms/step - loss: 0.7116 - accuracy: 0.5629 - val_loss: 0.6662 - val_accuracy: 0.5924\n",
      "Epoch 5/100\n",
      "46/46 [==============================] - 0s 4ms/step - loss: 0.6804 - accuracy: 0.5922 - val_loss: 0.6608 - val_accuracy: 0.5924\n",
      "Epoch 6/100\n",
      "46/46 [==============================] - 0s 3ms/step - loss: 0.6818 - accuracy: 0.5804 - val_loss: 0.6663 - val_accuracy: 0.5924\n",
      "Epoch 7/100\n",
      "46/46 [==============================] - 0s 3ms/step - loss: 0.6739 - accuracy: 0.5567 - val_loss: 0.6603 - val_accuracy: 0.5924\n",
      "Epoch 8/100\n",
      "46/46 [==============================] - 0s 4ms/step - loss: 0.6666 - accuracy: 0.5712 - val_loss: 0.6549 - val_accuracy: 0.5987\n",
      "Epoch 9/100\n",
      "46/46 [==============================] - 0s 4ms/step - loss: 0.6637 - accuracy: 0.6045 - val_loss: 0.6464 - val_accuracy: 0.5987\n",
      "Epoch 10/100\n",
      "46/46 [==============================] - 0s 3ms/step - loss: 0.6429 - accuracy: 0.6267 - val_loss: 0.6543 - val_accuracy: 0.6051\n",
      "Epoch 11/100\n",
      "46/46 [==============================] - 0s 4ms/step - loss: 0.6588 - accuracy: 0.6099 - val_loss: 0.6545 - val_accuracy: 0.5987\n",
      "Epoch 12/100\n",
      "46/46 [==============================] - 0s 3ms/step - loss: 0.6585 - accuracy: 0.5868 - val_loss: 0.6480 - val_accuracy: 0.5955\n",
      "Epoch 13/100\n",
      "46/46 [==============================] - 0s 4ms/step - loss: 0.6619 - accuracy: 0.6106 - val_loss: 0.6437 - val_accuracy: 0.5892\n",
      "Epoch 14/100\n",
      "46/46 [==============================] - 0s 3ms/step - loss: 0.6635 - accuracy: 0.6100 - val_loss: 0.6512 - val_accuracy: 0.5955\n",
      "Epoch 15/100\n",
      "46/46 [==============================] - 0s 4ms/step - loss: 0.6703 - accuracy: 0.5777 - val_loss: 0.6470 - val_accuracy: 0.5924\n",
      "Epoch 16/100\n",
      "46/46 [==============================] - 0s 3ms/step - loss: 0.6599 - accuracy: 0.5888 - val_loss: 0.6554 - val_accuracy: 0.5892\n",
      "Epoch 17/100\n",
      "46/46 [==============================] - 0s 3ms/step - loss: 0.6527 - accuracy: 0.5923 - val_loss: 0.6406 - val_accuracy: 0.6051\n",
      "Epoch 18/100\n",
      "46/46 [==============================] - 0s 3ms/step - loss: 0.6590 - accuracy: 0.6027 - val_loss: 0.6456 - val_accuracy: 0.6019\n",
      "Epoch 19/100\n",
      "46/46 [==============================] - 0s 4ms/step - loss: 0.6562 - accuracy: 0.6146 - val_loss: 0.6444 - val_accuracy: 0.6019\n",
      "Epoch 20/100\n",
      "46/46 [==============================] - 0s 6ms/step - loss: 0.6688 - accuracy: 0.5729 - val_loss: 0.6445 - val_accuracy: 0.6051\n",
      "Epoch 21/100\n",
      "46/46 [==============================] - 0s 4ms/step - loss: 0.6371 - accuracy: 0.6391 - val_loss: 0.6444 - val_accuracy: 0.6019\n",
      "Epoch 22/100\n",
      "46/46 [==============================] - 0s 4ms/step - loss: 0.6578 - accuracy: 0.6228 - val_loss: 0.6446 - val_accuracy: 0.6019\n",
      "Epoch 23/100\n",
      "46/46 [==============================] - 0s 4ms/step - loss: 0.6575 - accuracy: 0.6384 - val_loss: 0.6412 - val_accuracy: 0.5924\n",
      "Epoch 24/100\n",
      "46/46 [==============================] - 0s 4ms/step - loss: 0.6480 - accuracy: 0.6245 - val_loss: 0.6574 - val_accuracy: 0.6433\n",
      "Epoch 25/100\n",
      "46/46 [==============================] - 0s 4ms/step - loss: 0.6501 - accuracy: 0.6101 - val_loss: 0.6594 - val_accuracy: 0.6369\n",
      "Epoch 26/100\n",
      "46/46 [==============================] - 0s 4ms/step - loss: 0.6609 - accuracy: 0.6162 - val_loss: 0.6435 - val_accuracy: 0.5924\n",
      "Epoch 27/100\n",
      "46/46 [==============================] - 0s 4ms/step - loss: 0.6608 - accuracy: 0.6220 - val_loss: 0.6452 - val_accuracy: 0.5987\n",
      "Epoch 28/100\n",
      "46/46 [==============================] - 0s 4ms/step - loss: 0.6692 - accuracy: 0.5985 - val_loss: 0.6437 - val_accuracy: 0.5987\n",
      "Epoch 29/100\n",
      "46/46 [==============================] - 0s 4ms/step - loss: 0.6508 - accuracy: 0.5892 - val_loss: 0.6395 - val_accuracy: 0.5924\n",
      "Epoch 30/100\n",
      "46/46 [==============================] - 0s 4ms/step - loss: 0.6458 - accuracy: 0.5925 - val_loss: 0.6447 - val_accuracy: 0.6401\n",
      "Epoch 31/100\n",
      "46/46 [==============================] - 0s 4ms/step - loss: 0.6493 - accuracy: 0.6021 - val_loss: 0.6404 - val_accuracy: 0.5924\n",
      "Epoch 32/100\n",
      "46/46 [==============================] - 0s 4ms/step - loss: 0.6355 - accuracy: 0.6483 - val_loss: 0.6376 - val_accuracy: 0.5924\n",
      "Epoch 33/100\n",
      "46/46 [==============================] - 0s 4ms/step - loss: 0.6599 - accuracy: 0.6007 - val_loss: 0.6366 - val_accuracy: 0.5955\n",
      "Epoch 34/100\n",
      "46/46 [==============================] - 0s 4ms/step - loss: 0.6617 - accuracy: 0.6024 - val_loss: 0.6390 - val_accuracy: 0.5924\n",
      "Epoch 35/100\n",
      "46/46 [==============================] - 0s 4ms/step - loss: 0.6318 - accuracy: 0.6125 - val_loss: 0.6429 - val_accuracy: 0.6497\n",
      "Epoch 36/100\n",
      "46/46 [==============================] - 0s 4ms/step - loss: 0.6417 - accuracy: 0.6330 - val_loss: 0.6419 - val_accuracy: 0.6529\n",
      "Epoch 37/100\n",
      "46/46 [==============================] - 0s 4ms/step - loss: 0.6430 - accuracy: 0.6335 - val_loss: 0.6379 - val_accuracy: 0.6497\n",
      "Epoch 38/100\n",
      "46/46 [==============================] - 0s 3ms/step - loss: 0.6283 - accuracy: 0.6360 - val_loss: 0.6401 - val_accuracy: 0.6624\n",
      "Epoch 39/100\n",
      "46/46 [==============================] - 0s 3ms/step - loss: 0.6595 - accuracy: 0.6384 - val_loss: 0.6403 - val_accuracy: 0.5955\n",
      "Epoch 40/100\n",
      "46/46 [==============================] - 0s 3ms/step - loss: 0.6571 - accuracy: 0.6017 - val_loss: 0.6453 - val_accuracy: 0.6497\n",
      "Epoch 41/100\n",
      "46/46 [==============================] - 0s 3ms/step - loss: 0.6465 - accuracy: 0.6461 - val_loss: 0.6423 - val_accuracy: 0.6720\n",
      "Epoch 42/100\n",
      "46/46 [==============================] - 0s 3ms/step - loss: 0.6350 - accuracy: 0.6185 - val_loss: 0.6344 - val_accuracy: 0.6720\n",
      "Epoch 43/100\n",
      "46/46 [==============================] - 0s 3ms/step - loss: 0.6688 - accuracy: 0.6092 - val_loss: 0.6353 - val_accuracy: 0.6720\n",
      "Epoch 44/100\n",
      "46/46 [==============================] - 0s 3ms/step - loss: 0.6324 - accuracy: 0.6712 - val_loss: 0.6433 - val_accuracy: 0.6720\n",
      "Epoch 45/100\n",
      "46/46 [==============================] - 0s 5ms/step - loss: 0.6351 - accuracy: 0.6479 - val_loss: 0.6360 - val_accuracy: 0.6624\n",
      "Epoch 46/100\n",
      "46/46 [==============================] - 0s 5ms/step - loss: 0.6491 - accuracy: 0.6547 - val_loss: 0.6347 - val_accuracy: 0.6624\n",
      "Epoch 47/100\n",
      "46/46 [==============================] - 0s 4ms/step - loss: 0.6290 - accuracy: 0.6617 - val_loss: 0.6559 - val_accuracy: 0.6497\n",
      "Epoch 48/100\n",
      "46/46 [==============================] - 0s 3ms/step - loss: 0.6411 - accuracy: 0.6573 - val_loss: 0.6307 - val_accuracy: 0.6688\n",
      "Epoch 49/100\n",
      "46/46 [==============================] - 0s 3ms/step - loss: 0.6314 - accuracy: 0.6369 - val_loss: 0.6307 - val_accuracy: 0.6720\n",
      "Epoch 50/100\n",
      "46/46 [==============================] - 0s 3ms/step - loss: 0.6695 - accuracy: 0.6263 - val_loss: 0.6300 - val_accuracy: 0.6720\n",
      "Epoch 51/100\n",
      "46/46 [==============================] - 0s 3ms/step - loss: 0.6434 - accuracy: 0.6282 - val_loss: 0.6331 - val_accuracy: 0.6720\n",
      "Epoch 52/100\n",
      "46/46 [==============================] - 0s 3ms/step - loss: 0.6354 - accuracy: 0.6374 - val_loss: 0.6368 - val_accuracy: 0.6720\n",
      "Epoch 53/100\n",
      "46/46 [==============================] - 0s 4ms/step - loss: 0.6499 - accuracy: 0.6070 - val_loss: 0.6304 - val_accuracy: 0.6656\n",
      "Epoch 54/100\n",
      "46/46 [==============================] - 0s 3ms/step - loss: 0.6362 - accuracy: 0.6452 - val_loss: 0.6270 - val_accuracy: 0.6624\n",
      "Epoch 55/100\n",
      "46/46 [==============================] - 0s 3ms/step - loss: 0.6359 - accuracy: 0.6153 - val_loss: 0.6283 - val_accuracy: 0.6274\n",
      "Epoch 56/100\n",
      "46/46 [==============================] - 0s 3ms/step - loss: 0.6558 - accuracy: 0.6465 - val_loss: 0.6276 - val_accuracy: 0.6465\n",
      "Epoch 57/100\n",
      "46/46 [==============================] - 0s 3ms/step - loss: 0.6353 - accuracy: 0.6486 - val_loss: 0.6316 - val_accuracy: 0.6656\n",
      "Epoch 58/100\n",
      "46/46 [==============================] - 0s 3ms/step - loss: 0.6387 - accuracy: 0.6394 - val_loss: 0.6267 - val_accuracy: 0.6624\n"
     ]
    },
    {
     "name": "stdout",
     "output_type": "stream",
     "text": [
      "Epoch 59/100\n",
      "46/46 [==============================] - 0s 3ms/step - loss: 0.6278 - accuracy: 0.6742 - val_loss: 0.6402 - val_accuracy: 0.6656\n",
      "Epoch 60/100\n",
      "46/46 [==============================] - 0s 3ms/step - loss: 0.6504 - accuracy: 0.6327 - val_loss: 0.6289 - val_accuracy: 0.6624\n",
      "Epoch 61/100\n",
      "46/46 [==============================] - 0s 3ms/step - loss: 0.6343 - accuracy: 0.6761 - val_loss: 0.6339 - val_accuracy: 0.6720\n",
      "Epoch 62/100\n",
      "46/46 [==============================] - 0s 3ms/step - loss: 0.6288 - accuracy: 0.6826 - val_loss: 0.6365 - val_accuracy: 0.6656\n",
      "Epoch 63/100\n",
      "46/46 [==============================] - 0s 3ms/step - loss: 0.6295 - accuracy: 0.6499 - val_loss: 0.6326 - val_accuracy: 0.6656\n",
      "Epoch 64/100\n",
      "46/46 [==============================] - 0s 3ms/step - loss: 0.6265 - accuracy: 0.6456 - val_loss: 0.6317 - val_accuracy: 0.6656\n",
      "Epoch 65/100\n",
      "46/46 [==============================] - 0s 3ms/step - loss: 0.6276 - accuracy: 0.6632 - val_loss: 0.6303 - val_accuracy: 0.6720\n",
      "Epoch 66/100\n",
      "46/46 [==============================] - 0s 3ms/step - loss: 0.6271 - accuracy: 0.6653 - val_loss: 0.6306 - val_accuracy: 0.6401\n",
      "Epoch 67/100\n",
      "46/46 [==============================] - 0s 3ms/step - loss: 0.6474 - accuracy: 0.6447 - val_loss: 0.6245 - val_accuracy: 0.6624\n",
      "Epoch 68/100\n",
      "46/46 [==============================] - 0s 3ms/step - loss: 0.6550 - accuracy: 0.6427 - val_loss: 0.6378 - val_accuracy: 0.6656\n",
      "Epoch 69/100\n",
      "46/46 [==============================] - 0s 3ms/step - loss: 0.6420 - accuracy: 0.6410 - val_loss: 0.6362 - val_accuracy: 0.6624\n",
      "Epoch 70/100\n",
      "46/46 [==============================] - 0s 3ms/step - loss: 0.6581 - accuracy: 0.6458 - val_loss: 0.6328 - val_accuracy: 0.6624\n",
      "Epoch 71/100\n",
      "46/46 [==============================] - 0s 3ms/step - loss: 0.6240 - accuracy: 0.6647 - val_loss: 0.6326 - val_accuracy: 0.6624\n",
      "Epoch 72/100\n",
      "46/46 [==============================] - 0s 3ms/step - loss: 0.6431 - accuracy: 0.6341 - val_loss: 0.6334 - val_accuracy: 0.6752\n",
      "Epoch 73/100\n",
      "46/46 [==============================] - 0s 3ms/step - loss: 0.6250 - accuracy: 0.6729 - val_loss: 0.6438 - val_accuracy: 0.6497\n",
      "Epoch 74/100\n",
      "46/46 [==============================] - 0s 5ms/step - loss: 0.6517 - accuracy: 0.6292 - val_loss: 0.6410 - val_accuracy: 0.6624\n",
      "Epoch 75/100\n",
      "46/46 [==============================] - 0s 3ms/step - loss: 0.6497 - accuracy: 0.6343 - val_loss: 0.6363 - val_accuracy: 0.6624\n",
      "Epoch 76/100\n",
      "46/46 [==============================] - 0s 3ms/step - loss: 0.6316 - accuracy: 0.6680 - val_loss: 0.6315 - val_accuracy: 0.6624\n",
      "Epoch 77/100\n",
      "46/46 [==============================] - 0s 3ms/step - loss: 0.6393 - accuracy: 0.6553 - val_loss: 0.6320 - val_accuracy: 0.6592\n",
      "Epoch 78/100\n",
      "46/46 [==============================] - 0s 3ms/step - loss: 0.6506 - accuracy: 0.6266 - val_loss: 0.6324 - val_accuracy: 0.6624\n",
      "Epoch 79/100\n",
      "46/46 [==============================] - 0s 3ms/step - loss: 0.6483 - accuracy: 0.6266 - val_loss: 0.6372 - val_accuracy: 0.6656\n",
      "Epoch 80/100\n",
      "46/46 [==============================] - 0s 3ms/step - loss: 0.6321 - accuracy: 0.6530 - val_loss: 0.6427 - val_accuracy: 0.6688\n",
      "Epoch 81/100\n",
      "46/46 [==============================] - 0s 3ms/step - loss: 0.6286 - accuracy: 0.6592 - val_loss: 0.6361 - val_accuracy: 0.6656\n",
      "Epoch 82/100\n",
      "46/46 [==============================] - 0s 3ms/step - loss: 0.6288 - accuracy: 0.6470 - val_loss: 0.6442 - val_accuracy: 0.6752\n",
      "Epoch 83/100\n",
      "46/46 [==============================] - 0s 3ms/step - loss: 0.6249 - accuracy: 0.6628 - val_loss: 0.6308 - val_accuracy: 0.6624\n",
      "Epoch 84/100\n",
      "46/46 [==============================] - 0s 3ms/step - loss: 0.6358 - accuracy: 0.6509 - val_loss: 0.6339 - val_accuracy: 0.6656\n",
      "Epoch 85/100\n",
      "46/46 [==============================] - 0s 3ms/step - loss: 0.6566 - accuracy: 0.6497 - val_loss: 0.6365 - val_accuracy: 0.6656\n",
      "Epoch 86/100\n",
      "46/46 [==============================] - 0s 3ms/step - loss: 0.6340 - accuracy: 0.6412 - val_loss: 0.6323 - val_accuracy: 0.6624\n",
      "Epoch 87/100\n",
      "46/46 [==============================] - 0s 3ms/step - loss: 0.6120 - accuracy: 0.6763 - val_loss: 0.6300 - val_accuracy: 0.6624\n",
      "Epoch 88/100\n",
      "46/46 [==============================] - 0s 3ms/step - loss: 0.6453 - accuracy: 0.6491 - val_loss: 0.6394 - val_accuracy: 0.6624\n",
      "Epoch 89/100\n",
      "46/46 [==============================] - 0s 3ms/step - loss: 0.6173 - accuracy: 0.6564 - val_loss: 0.6395 - val_accuracy: 0.6688\n",
      "Epoch 90/100\n",
      "46/46 [==============================] - 0s 3ms/step - loss: 0.6436 - accuracy: 0.6485 - val_loss: 0.6414 - val_accuracy: 0.6656\n",
      "Epoch 91/100\n",
      "46/46 [==============================] - 0s 3ms/step - loss: 0.6249 - accuracy: 0.6843 - val_loss: 0.6348 - val_accuracy: 0.6624\n",
      "Epoch 92/100\n",
      "46/46 [==============================] - 0s 3ms/step - loss: 0.6186 - accuracy: 0.6846 - val_loss: 0.6482 - val_accuracy: 0.6688\n",
      "Epoch 93/100\n",
      "46/46 [==============================] - 0s 3ms/step - loss: 0.6324 - accuracy: 0.6777 - val_loss: 0.6342 - val_accuracy: 0.6624\n",
      "Epoch 94/100\n",
      "46/46 [==============================] - 0s 3ms/step - loss: 0.6254 - accuracy: 0.6903 - val_loss: 0.6406 - val_accuracy: 0.6688\n",
      "Epoch 95/100\n",
      "46/46 [==============================] - 0s 3ms/step - loss: 0.6522 - accuracy: 0.6380 - val_loss: 0.6306 - val_accuracy: 0.6592\n",
      "Epoch 96/100\n",
      "46/46 [==============================] - 0s 3ms/step - loss: 0.6395 - accuracy: 0.6358 - val_loss: 0.6342 - val_accuracy: 0.6656\n",
      "Epoch 97/100\n",
      "46/46 [==============================] - 0s 3ms/step - loss: 0.6209 - accuracy: 0.6647 - val_loss: 0.6349 - val_accuracy: 0.6656\n",
      "Epoch 98/100\n",
      "46/46 [==============================] - 0s 3ms/step - loss: 0.6221 - accuracy: 0.6685 - val_loss: 0.6330 - val_accuracy: 0.6783\n",
      "Epoch 99/100\n",
      "46/46 [==============================] - 0s 3ms/step - loss: 0.6320 - accuracy: 0.6740 - val_loss: 0.6297 - val_accuracy: 0.6624\n",
      "Epoch 100/100\n",
      "46/46 [==============================] - 0s 3ms/step - loss: 0.6467 - accuracy: 0.6399 - val_loss: 0.6297 - val_accuracy: 0.6752\n"
     ]
    }
   ],
   "source": [
    "# NN models\n",
    "import keras\n",
    "from keras.models import Sequential\n",
    "from keras.layers import Dense, Dropout\n",
    "from keras import optimizers\n",
    "from keras.wrappers.scikit_learn import KerasClassifier\n",
    "from keras.callbacks import EarlyStopping, ModelCheckpoint\n",
    "\n",
    "opt = optimizers.Adam(lr=0.001)\n",
    "ann = build_ann(opt)\n",
    "# Training the ANN\n",
    "history = ann.fit(x_train,y_train, batch_size=16, epochs=100, validation_data=(x_test,y_test))"
   ]
  },
  {
   "cell_type": "code",
   "execution_count": 219,
   "metadata": {},
   "outputs": [
    {
     "data": {
      "text/plain": [
       "68.03"
      ]
     },
     "execution_count": 219,
     "metadata": {},
     "output_type": "execute_result"
    }
   ],
   "source": [
    "# Predicting the Train set results\n",
    "ann_prediction = ann.predict(x_train)\n",
    "ann_prediction = (ann_prediction > 0.5)*1 # convert probabilities to binary output\n",
    "\n",
    "# Compute error between predicted data and true response and display it in confusion matrix\n",
    "acc_ann1 = round(metrics.accuracy_score(y_train, ann_prediction) * 100, 2)\n",
    "acc_ann1"
   ]
  },
  {
   "cell_type": "code",
   "execution_count": 220,
   "metadata": {},
   "outputs": [
    {
     "data": {
      "text/plain": [
       "67.52"
      ]
     },
     "execution_count": 220,
     "metadata": {},
     "output_type": "execute_result"
    }
   ],
   "source": [
    "# Predicting the Test set results\n",
    "ann_prediction_test = ann.predict(x_test)\n",
    "ann_prediction_test = (ann_prediction_test > 0.5)*1 # convert probabilities to binary output\n",
    "\n",
    "# Compute error between predicted data and true response and display it in confusion matrix\n",
    "acc_test_ann1 = round(metrics.accuracy_score(y_test, ann_prediction_test) * 100, 2)\n",
    "acc_test_ann1"
   ]
  },
  {
   "cell_type": "markdown",
   "metadata": {},
   "source": [
    "**<span style=\"color:#003f5c;\"> If you liked this Notebook, please do upvote.</span>**\n",
    "\n",
    "**<span style=\"color:#003f5c;\"> If you have any suggestions or questions, I am all ears!</span>**\n",
    "\n",
    "**<span style=\"color:#003f5c;\">Best Wishes!</span>**\n",
    "\n",
    "<a id=\"5\"></a> \n",
    "# <h1 style='background:#f7b2b0; border:0; color:black'><center>FIN</center></h1> "
   ]
  },
  {
   "cell_type": "code",
   "execution_count": null,
   "metadata": {},
   "outputs": [],
   "source": []
  }
 ],
 "metadata": {
  "kernelspec": {
   "display_name": "Python 3",
   "language": "python",
   "name": "python3"
  },
  "language_info": {
   "codemirror_mode": {
    "name": "ipython",
    "version": 3
   },
   "file_extension": ".py",
   "mimetype": "text/x-python",
   "name": "python",
   "nbconvert_exporter": "python",
   "pygments_lexer": "ipython3",
   "version": "3.6.4"
  }
 },
 "nbformat": 4,
 "nbformat_minor": 4
}
