{
 "cells": [
  {
   "cell_type": "code",
   "execution_count": 1,
   "metadata": {},
   "outputs": [],
   "source": [
    "import pandas as pd"
   ]
  },
  {
   "cell_type": "code",
   "execution_count": 2,
   "metadata": {},
   "outputs": [],
   "source": [
    "docs = pd.read_csv('../data/doctors.csv', header=None)"
   ]
  },
  {
   "cell_type": "code",
   "execution_count": 3,
   "metadata": {},
   "outputs": [
    {
     "data": {
      "text/html": [
       "<div>\n",
       "<style scoped>\n",
       "    .dataframe tbody tr th:only-of-type {\n",
       "        vertical-align: middle;\n",
       "    }\n",
       "\n",
       "    .dataframe tbody tr th {\n",
       "        vertical-align: top;\n",
       "    }\n",
       "\n",
       "    .dataframe thead th {\n",
       "        text-align: right;\n",
       "    }\n",
       "</style>\n",
       "<table border=\"1\" class=\"dataframe\">\n",
       "  <thead>\n",
       "    <tr style=\"text-align: right;\">\n",
       "      <th></th>\n",
       "      <th>0</th>\n",
       "    </tr>\n",
       "  </thead>\n",
       "  <tbody>\n",
       "    <tr>\n",
       "      <th>0</th>\n",
       "      <td>William Hartnell (1963-66)</td>\n",
       "    </tr>\n",
       "    <tr>\n",
       "      <th>1</th>\n",
       "      <td>Patrick Troughton (1966-69)</td>\n",
       "    </tr>\n",
       "    <tr>\n",
       "      <th>2</th>\n",
       "      <td>Jon Pertwee (1970 74)</td>\n",
       "    </tr>\n",
       "    <tr>\n",
       "      <th>3</th>\n",
       "      <td>Tom Baker (1974-81)</td>\n",
       "    </tr>\n",
       "    <tr>\n",
       "      <th>4</th>\n",
       "      <td>Peter Davison (1982-84)</td>\n",
       "    </tr>\n",
       "    <tr>\n",
       "      <th>5</th>\n",
       "      <td>Colin Baker (1984-86)</td>\n",
       "    </tr>\n",
       "    <tr>\n",
       "      <th>6</th>\n",
       "      <td>Sylvester McCoy (1987-89)</td>\n",
       "    </tr>\n",
       "    <tr>\n",
       "      <th>7</th>\n",
       "      <td>Paul McGann (1996)</td>\n",
       "    </tr>\n",
       "    <tr>\n",
       "      <th>8</th>\n",
       "      <td>Christopher Eccleston (2005)</td>\n",
       "    </tr>\n",
       "    <tr>\n",
       "      <th>9</th>\n",
       "      <td>David Tennant (2005-10)</td>\n",
       "    </tr>\n",
       "    <tr>\n",
       "      <th>10</th>\n",
       "      <td>Matt Smith (2010-13)</td>\n",
       "    </tr>\n",
       "    <tr>\n",
       "      <th>11</th>\n",
       "      <td>Peter Capaldi (2014-2017)</td>\n",
       "    </tr>\n",
       "    <tr>\n",
       "      <th>12</th>\n",
       "      <td>Jodie Whittaker (2017)</td>\n",
       "    </tr>\n",
       "  </tbody>\n",
       "</table>\n",
       "</div>"
      ],
      "text/plain": [
       "                               0\n",
       "0     William Hartnell (1963-66)\n",
       "1    Patrick Troughton (1966-69)\n",
       "2          Jon Pertwee (1970 74)\n",
       "3            Tom Baker (1974-81)\n",
       "4        Peter Davison (1982-84)\n",
       "5          Colin Baker (1984-86)\n",
       "6      Sylvester McCoy (1987-89)\n",
       "7             Paul McGann (1996)\n",
       "8   Christopher Eccleston (2005)\n",
       "9        David Tennant (2005-10)\n",
       "10          Matt Smith (2010-13)\n",
       "11     Peter Capaldi (2014-2017)\n",
       "12        Jodie Whittaker (2017)"
      ]
     },
     "execution_count": 3,
     "metadata": {},
     "output_type": "execute_result"
    }
   ],
   "source": [
    "docs"
   ]
  },
  {
   "cell_type": "code",
   "execution_count": 5,
   "metadata": {},
   "outputs": [],
   "source": [
    "import re"
   ]
  },
  {
   "cell_type": "code",
   "execution_count": 6,
   "metadata": {},
   "outputs": [],
   "source": [
    "p = re.compile('\\w+\\s+\\w+')"
   ]
  },
  {
   "cell_type": "code",
   "execution_count": 7,
   "metadata": {},
   "outputs": [],
   "source": [
    "def get_name(s, pattern):\n",
    "    return pattern.match(s).group()"
   ]
  },
  {
   "cell_type": "code",
   "execution_count": 8,
   "metadata": {},
   "outputs": [],
   "source": [
    "docs['name_fun'] = docs[0].apply(get_name, pattern = p)"
   ]
  },
  {
   "cell_type": "code",
   "execution_count": 10,
   "metadata": {},
   "outputs": [],
   "source": [
    "docs['name_lamb'] = docs[0].apply(lambda x: p.match(x).group())"
   ]
  },
  {
   "cell_type": "code",
   "execution_count": 11,
   "metadata": {},
   "outputs": [
    {
     "data": {
      "text/html": [
       "<div>\n",
       "<style scoped>\n",
       "    .dataframe tbody tr th:only-of-type {\n",
       "        vertical-align: middle;\n",
       "    }\n",
       "\n",
       "    .dataframe tbody tr th {\n",
       "        vertical-align: top;\n",
       "    }\n",
       "\n",
       "    .dataframe thead th {\n",
       "        text-align: right;\n",
       "    }\n",
       "</style>\n",
       "<table border=\"1\" class=\"dataframe\">\n",
       "  <thead>\n",
       "    <tr style=\"text-align: right;\">\n",
       "      <th></th>\n",
       "      <th>0</th>\n",
       "      <th>name_fun</th>\n",
       "      <th>name_lamb</th>\n",
       "    </tr>\n",
       "  </thead>\n",
       "  <tbody>\n",
       "    <tr>\n",
       "      <th>0</th>\n",
       "      <td>William Hartnell (1963-66)</td>\n",
       "      <td>William Hartnell</td>\n",
       "      <td>William Hartnell</td>\n",
       "    </tr>\n",
       "    <tr>\n",
       "      <th>1</th>\n",
       "      <td>Patrick Troughton (1966-69)</td>\n",
       "      <td>Patrick Troughton</td>\n",
       "      <td>Patrick Troughton</td>\n",
       "    </tr>\n",
       "    <tr>\n",
       "      <th>2</th>\n",
       "      <td>Jon Pertwee (1970 74)</td>\n",
       "      <td>Jon Pertwee</td>\n",
       "      <td>Jon Pertwee</td>\n",
       "    </tr>\n",
       "    <tr>\n",
       "      <th>3</th>\n",
       "      <td>Tom Baker (1974-81)</td>\n",
       "      <td>Tom Baker</td>\n",
       "      <td>Tom Baker</td>\n",
       "    </tr>\n",
       "    <tr>\n",
       "      <th>4</th>\n",
       "      <td>Peter Davison (1982-84)</td>\n",
       "      <td>Peter Davison</td>\n",
       "      <td>Peter Davison</td>\n",
       "    </tr>\n",
       "    <tr>\n",
       "      <th>5</th>\n",
       "      <td>Colin Baker (1984-86)</td>\n",
       "      <td>Colin Baker</td>\n",
       "      <td>Colin Baker</td>\n",
       "    </tr>\n",
       "    <tr>\n",
       "      <th>6</th>\n",
       "      <td>Sylvester McCoy (1987-89)</td>\n",
       "      <td>Sylvester McCoy</td>\n",
       "      <td>Sylvester McCoy</td>\n",
       "    </tr>\n",
       "    <tr>\n",
       "      <th>7</th>\n",
       "      <td>Paul McGann (1996)</td>\n",
       "      <td>Paul McGann</td>\n",
       "      <td>Paul McGann</td>\n",
       "    </tr>\n",
       "    <tr>\n",
       "      <th>8</th>\n",
       "      <td>Christopher Eccleston (2005)</td>\n",
       "      <td>Christopher Eccleston</td>\n",
       "      <td>Christopher Eccleston</td>\n",
       "    </tr>\n",
       "    <tr>\n",
       "      <th>9</th>\n",
       "      <td>David Tennant (2005-10)</td>\n",
       "      <td>David Tennant</td>\n",
       "      <td>David Tennant</td>\n",
       "    </tr>\n",
       "    <tr>\n",
       "      <th>10</th>\n",
       "      <td>Matt Smith (2010-13)</td>\n",
       "      <td>Matt Smith</td>\n",
       "      <td>Matt Smith</td>\n",
       "    </tr>\n",
       "    <tr>\n",
       "      <th>11</th>\n",
       "      <td>Peter Capaldi (2014-2017)</td>\n",
       "      <td>Peter Capaldi</td>\n",
       "      <td>Peter Capaldi</td>\n",
       "    </tr>\n",
       "    <tr>\n",
       "      <th>12</th>\n",
       "      <td>Jodie Whittaker (2017)</td>\n",
       "      <td>Jodie Whittaker</td>\n",
       "      <td>Jodie Whittaker</td>\n",
       "    </tr>\n",
       "  </tbody>\n",
       "</table>\n",
       "</div>"
      ],
      "text/plain": [
       "                               0               name_fun              name_lamb\n",
       "0     William Hartnell (1963-66)       William Hartnell       William Hartnell\n",
       "1    Patrick Troughton (1966-69)      Patrick Troughton      Patrick Troughton\n",
       "2          Jon Pertwee (1970 74)            Jon Pertwee            Jon Pertwee\n",
       "3            Tom Baker (1974-81)              Tom Baker              Tom Baker\n",
       "4        Peter Davison (1982-84)          Peter Davison          Peter Davison\n",
       "5          Colin Baker (1984-86)            Colin Baker            Colin Baker\n",
       "6      Sylvester McCoy (1987-89)        Sylvester McCoy        Sylvester McCoy\n",
       "7             Paul McGann (1996)            Paul McGann            Paul McGann\n",
       "8   Christopher Eccleston (2005)  Christopher Eccleston  Christopher Eccleston\n",
       "9        David Tennant (2005-10)          David Tennant          David Tennant\n",
       "10          Matt Smith (2010-13)             Matt Smith             Matt Smith\n",
       "11     Peter Capaldi (2014-2017)          Peter Capaldi          Peter Capaldi\n",
       "12        Jodie Whittaker (2017)        Jodie Whittaker        Jodie Whittaker"
      ]
     },
     "execution_count": 11,
     "metadata": {},
     "output_type": "execute_result"
    }
   ],
   "source": [
    "docs"
   ]
  }
 ],
 "metadata": {
  "kernelspec": {
   "display_name": "Python 3",
   "language": "python",
   "name": "python3"
  },
  "language_info": {
   "codemirror_mode": {
    "name": "ipython",
    "version": 3
   },
   "file_extension": ".py",
   "mimetype": "text/x-python",
   "name": "python",
   "nbconvert_exporter": "python",
   "pygments_lexer": "ipython3",
   "version": "3.7.0"
  }
 },
 "nbformat": 4,
 "nbformat_minor": 2
}
